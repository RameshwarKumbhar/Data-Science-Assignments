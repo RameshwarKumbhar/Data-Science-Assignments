{
 "cells": [
  {
   "cell_type": "markdown",
   "id": "9a7098fe-c8d9-4eaa-a916-e0266b7caa6d",
   "metadata": {},
   "source": [
    "### Q.1> What is multithreading in python? hy is it used? Name the module used to handle threads in python"
   ]
  },
  {
   "cell_type": "markdown",
   "id": "3335b823-f903-424f-9b5b-ef862b82970b",
   "metadata": {},
   "source": [
    "#### ANSWER"
   ]
  },
  {
   "cell_type": "markdown",
   "id": "9ad74854-eba5-4800-afc2-04d49f2dc661",
   "metadata": {},
   "source": [
    "#### Multithreading in Python refers to the capability of a program to execute multiple threads simultaneously within a single process. Each thread runs independently of other threads but shares the same resources like memory, CPU, and file descriptors. It is used to improve the performance of a program by allowing it to execute multiple tasks concurrently.\n",
    "\n",
    "#### Multithreading is particularly useful for I/O-bound operations, where the CPU spends most of its time waiting for input/output to complete, as well as for tasks that can be parallelized, such as image processing or data analysis.\n",
    "\n",
    "#### The module used to handle threads in Python is called the \"threading\" module. It provides a high-level interface for creating and managing threads in a Python program. The \"threading\" module provides several classes and functions to support multithreading, including the Thread class for creating threads, the Lock class for implementing synchronization between threads, and the Semaphore class for controlling access to shared resources."
   ]
  },
  {
   "cell_type": "markdown",
   "id": "735c8077-c8a6-44fa-a98b-22bd239a4c6a",
   "metadata": {},
   "source": [
    "### Q.2> Why threading module used? Write the use of the following functions\n",
    "###   activeCount\n",
    "###   currentThread\n",
    "###  enumerate"
   ]
  },
  {
   "cell_type": "markdown",
   "id": "34aba662-0837-457c-ac95-06ee95a8b51f",
   "metadata": {},
   "source": [
    "#### ANSWWER"
   ]
  },
  {
   "cell_type": "markdown",
   "id": "e9408b2a-8ca4-4900-b587-8b3cd7eb56ed",
   "metadata": {},
   "source": [
    "#### The threading module in Python is used to create and manage threads in a program. It provides a way to execute multiple threads concurrently, allowing for improved performance and better resource utilization. Here are the uses of the following functions in the threading module:\n",
    "\n",
    "#### activeCount() - This function returns the number of currently active threads in the program. It can be used to monitor the number of threads running at any given time and can help in detecting issues such as thread leaks or thread starvation.\n",
    "\n",
    "#### currentThread() - This function returns the current thread object, which represents the thread that is currently executing the code. It can be used to access information about the current thread, such as its name, ID, and state.\n",
    "\n",
    "#### enumerate() - This function returns a list of all Thread objects that are currently active in the program. It can be used to iterate over all active threads and perform operations on each thread, such as checking its state or terminating it if necessary."
   ]
  },
  {
   "cell_type": "markdown",
   "id": "7871a121-ef11-4e26-b088-e91241c7318e",
   "metadata": {},
   "source": [
    "### Q.3> Explain the following functions\n",
    "### ( run\n",
    "###  start\n",
    "###  join\n",
    "### ' isAlive)"
   ]
  },
  {
   "cell_type": "markdown",
   "id": "71855cf8-db17-406a-80b4-669c72488ec2",
   "metadata": {},
   "source": [
    "#### ANSWER"
   ]
  },
  {
   "cell_type": "markdown",
   "id": "f3e88d06-c446-4955-94ed-5499a36d0dec",
   "metadata": {},
   "source": [
    "#### run(): This is the method that is executed when a thread is started. You can override this method to define the behavior of the thread.\n",
    "\n",
    "#### start(): This method is used to start the execution of a thread. When this method is called, the run method of the thread is executed in a separate thread of control.\n",
    "\n",
    "#### join(): This method waits for a thread to finish execution before moving on to the next line of code. It blocks the calling thread until the thread it is called on has finished running.\n",
    "\n",
    "#### isAlive(): This method returns a boolean value indicating whether or not the thread is currently executing. It can be useful for checking the status of a thread before calling join()."
   ]
  },
  {
   "cell_type": "markdown",
   "id": "884e5a3f-9163-44d7-8e6a-367d45efcd22",
   "metadata": {},
   "source": [
    "### Q.4> Write a python program to create two threads. Thread one must print the list of squares and thread two must print the list of cubes"
   ]
  },
  {
   "cell_type": "markdown",
   "id": "26752fd3-881a-406d-9c56-00166cef5bc1",
   "metadata": {},
   "source": [
    "#### ANSWER"
   ]
  },
  {
   "cell_type": "code",
   "execution_count": 1,
   "id": "b7066891-dc02-493d-b493-0db01078ba1e",
   "metadata": {},
   "outputs": [
    {
     "name": "stdout",
     "output_type": "stream",
     "text": [
      "1 squared is 1\n",
      "2 squared is 4\n",
      "3 squared is 9\n",
      "4 squared is 16\n",
      "5 squared is 25\n",
      "6 squared is 36\n",
      "7 squared is 49\n",
      "8 squared is 64\n",
      "9 squared is 81\n",
      "10 squared is 100\n",
      "1 cubed is 1\n",
      "2 cubed is 8\n",
      "3 cubed is 27\n",
      "4 cubed is 64\n",
      "5 cubed is 125\n",
      "6 cubed is 216\n",
      "7 cubed is 343\n",
      "8 cubed is 512\n",
      "9 cubed is 729\n",
      "10 cubed is 1000\n",
      "Done\n"
     ]
    }
   ],
   "source": [
    "import threading\n",
    "\n",
    "def print_squares():\n",
    "    for i in range(1, 11):\n",
    "        print(f\"{i} squared is {i*i}\")\n",
    "\n",
    "def print_cubes():\n",
    "    for i in range(1, 11):\n",
    "        print(f\"{i} cubed is {i*i*i}\")\n",
    "\n",
    "if __name__ == \"__main__\":\n",
    "    # Create two threads\n",
    "    t1 = threading.Thread(target=print_squares)\n",
    "    t2 = threading.Thread(target=print_cubes)\n",
    "\n",
    "    t1.start()\n",
    "    t2.start()\n",
    "    \n",
    "    \n",
    "    t1.join()\n",
    "    t2.join()\n",
    "\n",
    "    print(\"Done\")\n"
   ]
  },
  {
   "cell_type": "markdown",
   "id": "791e6e1a-75d8-4725-986c-10b962fe5244",
   "metadata": {},
   "source": [
    "### Q.5 State advantages and disadvantages of multithreading"
   ]
  },
  {
   "cell_type": "markdown",
   "id": "1e548073-cdc3-48f2-8563-0b2d7e39ce27",
   "metadata": {},
   "source": [
    "#### ANSWER"
   ]
  },
  {
   "cell_type": "markdown",
   "id": "b7983db4-f786-4538-b399-cbdafd0fa7da",
   "metadata": {},
   "source": [
    "#### Advantages of Multithreading:\n",
    "\n",
    "#### Improved Performance: Multithreading can improve the performance of a program by executing multiple tasks concurrently. By utilizing the available CPU cores, threads can perform their tasks simultaneously, leading to faster execution times.\n",
    "\n",
    "#### Resource Sharing: Threads can share resources like memory and data, which can improve the overall efficiency of the program.\n",
    "\n",
    "#### Better Responsiveness: Multithreading allows a program to remain responsive to user input while performing other tasks in the background. This is particularly important for interactive applications.\n",
    "\n",
    "#### Simplified Code: Multithreading can simplify the code by breaking down a complex program into smaller, more manageable tasks.\n",
    "\n"
   ]
  },
  {
   "cell_type": "markdown",
   "id": "1b9e3bc0-82d4-456e-b288-a70e29ca6aea",
   "metadata": {},
   "source": [
    "#### Disadvantages of Multithreading:\n",
    "\n",
    "#### Complex Design: Multithreaded programs can be more complex to design and implement compared to single-threaded programs. The need for synchronization and coordination between threads can introduce additional complexity.\n",
    "\n",
    "#### Debugging Issues: Debugging multithreaded programs can be more difficult because of the increased complexity and the potential for race conditions and deadlocks.\n",
    "\n",
    "#### Resource Overhead: Multithreading introduces additional resource overhead due to the need for synchronization and coordination between threads.\n",
    "\n",
    "#### Unpredictable Performance: Multithreading can lead to unpredictable performance if not implemented properly. For example, if there are too many threads running concurrently, it can lead to contention for resources, which can slow down the program instead of speeding it up."
   ]
  },
  {
   "cell_type": "markdown",
   "id": "91910d58-963e-47bd-a6a2-907c7053f002",
   "metadata": {},
   "source": [
    "### Q.6> Explain deadlocks and race conditions."
   ]
  },
  {
   "cell_type": "markdown",
   "id": "05df70a6-0c35-4bd3-8707-3555aab5b64a",
   "metadata": {},
   "source": [
    "#### ANSWER"
   ]
  },
  {
   "cell_type": "markdown",
   "id": "ae25454c-fb67-42a1-bdb2-177a35ac41eb",
   "metadata": {},
   "source": [
    "#### Deadlock:\n",
    "\n",
    "#### Deadlock occurs when two or more threads are waiting for each other to release a resource, resulting in a standstill where no thread can proceed. It occurs due to a circular dependency between the threads, where each thread is holding a resource that the other thread needs to proceed. Deadlocks can cause a program to hang indefinitely, which can lead to a loss of resources and a decrease in performance."
   ]
  },
  {
   "cell_type": "markdown",
   "id": "66ebd675-4514-41e6-83c5-3f780fd74e4f",
   "metadata": {},
   "source": [
    "#### Race Condition:\n",
    "\n",
    "#### A race condition occurs when two or more threads access shared data or resources simultaneously, and the final outcome depends on the order of execution of the threads. The behavior of the program becomes unpredictable, as the output can change depending on the order of execution of the threads. It is called a \"race\" because it is a competition between threads to access the shared resource.\n",
    "\n",
    "#### To prevent deadlocks and race conditions, it is important to implement proper synchronization and coordination between threads. Synchronization is the process of ensuring that only one thread can access a shared resource at a time, while coordination is the process of ensuring that threads do not wait for each other indefinitely. Techniques such as locks, semaphores, and monitors can be used to prevent deadlocks and race conditions and ensure safe and efficient multithreaded programming."
   ]
  },
  {
   "cell_type": "code",
   "execution_count": null,
   "id": "4ec6956c-2630-4c26-aec6-887a3119d2e0",
   "metadata": {},
   "outputs": [],
   "source": []
  }
 ],
 "metadata": {
  "kernelspec": {
   "display_name": "Python 3 (ipykernel)",
   "language": "python",
   "name": "python3"
  },
  "language_info": {
   "codemirror_mode": {
    "name": "ipython",
    "version": 3
   },
   "file_extension": ".py",
   "mimetype": "text/x-python",
   "name": "python",
   "nbconvert_exporter": "python",
   "pygments_lexer": "ipython3",
   "version": "3.10.8"
  }
 },
 "nbformat": 4,
 "nbformat_minor": 5
}
