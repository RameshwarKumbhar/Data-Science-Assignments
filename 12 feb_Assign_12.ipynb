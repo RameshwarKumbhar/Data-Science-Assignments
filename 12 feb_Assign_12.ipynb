{
 "cells": [
  {
   "cell_type": "markdown",
   "id": "d86303e5-7446-4977-91ff-435dc6e6b92e",
   "metadata": {},
   "source": [
    "### Q.1> what is an Exception in python. write the difference between the Exceptions and syntax errors"
   ]
  },
  {
   "cell_type": "markdown",
   "id": "008c740a-54ad-4615-ac1d-321ca42b8a16",
   "metadata": {},
   "source": [
    "#### ANSWER"
   ]
  },
  {
   "cell_type": "markdown",
   "id": "10a30de1-aca2-436f-a6d2-c869f0469c9c",
   "metadata": {},
   "source": [
    "#### An Exception in Python is an error that occurs during program execution, which interrupts the normal flow of code. When an exception occurs, Python generates an error message, which can be used to identify and fix the problem.\n",
    "#### Exceptions can occur for a variety of reasons, such as division by zero, attempting to access a non-existent file, or trying to call a method on a null object. Python provides a mechanism for handling exceptions using try...except blocks, which allow you to catch the exception and take appropriate action, such as displaying an error message or retrying the operation.\n",
    "#### Syntax errors, on the other hand, occur when there is a problem with the syntax of the Python code itself. This can include things like missing parentheses, invalid keywords, or misspelled variable names. Syntax errors are caught by the Python interpreter before the program is executed, and will prevent the program from running until the syntax error is fixed.\n",
    "#### The main difference between Exceptions and Syntax errors is that Exceptions occur during program execution and are typically caused by external factors, while Syntax errors are caused by issues within the code itself and are caught by the interpreter before the program is executed.\n",
    "#### Exceptions are caused by runtime errors, while Syntax errors are caused by coding mistakes."
   ]
  },
  {
   "cell_type": "markdown",
   "id": "96c46f88-bbb1-46fe-adf9-9897e765cdea",
   "metadata": {},
   "source": [
    "### Q.2> What happen when an exception is not handled? Explain with an example"
   ]
  },
  {
   "cell_type": "markdown",
   "id": "909d6f9f-d1d2-43f5-b648-6d6d670125be",
   "metadata": {},
   "source": [
    "#### ANSWER"
   ]
  },
  {
   "cell_type": "markdown",
   "id": "a7af26ad-9ca1-41dc-a7a2-0e708b8c7361",
   "metadata": {},
   "source": [
    "#### When an exception is not handled in Python, it will cause the program to terminate abruptly and an error message will be displayed to the user. "
   ]
  },
  {
   "cell_type": "code",
   "execution_count": 1,
   "id": "163c6262-b454-4708-8705-4c53587640fc",
   "metadata": {},
   "outputs": [
    {
     "ename": "ZeroDivisionError",
     "evalue": "division by zero",
     "output_type": "error",
     "traceback": [
      "\u001b[0;31m---------------------------------------------------------------------------\u001b[0m",
      "\u001b[0;31mZeroDivisionError\u001b[0m                         Traceback (most recent call last)",
      "Cell \u001b[0;32mIn[1], line 4\u001b[0m\n\u001b[1;32m      1\u001b[0m num1 \u001b[38;5;241m=\u001b[39m \u001b[38;5;241m10\u001b[39m\n\u001b[1;32m      2\u001b[0m num2 \u001b[38;5;241m=\u001b[39m \u001b[38;5;241m0\u001b[39m\n\u001b[0;32m----> 4\u001b[0m result \u001b[38;5;241m=\u001b[39m \u001b[43mnum1\u001b[49m\u001b[43m \u001b[49m\u001b[38;5;241;43m/\u001b[39;49m\u001b[43m \u001b[49m\u001b[43mnum2\u001b[49m\n\u001b[1;32m      5\u001b[0m \u001b[38;5;28mprint\u001b[39m(result)\n",
      "\u001b[0;31mZeroDivisionError\u001b[0m: division by zero"
     ]
    }
   ],
   "source": [
    "num1 = 10\n",
    "num2 = 0\n",
    "\n",
    "result = num1 / num2\n",
    "print(result)"
   ]
  },
  {
   "cell_type": "markdown",
   "id": "a1954b3a-48cf-46c7-a8b4-5e07c75458eb",
   "metadata": {},
   "source": [
    "#### This code will raise a ZeroDivisionError exception because we are trying to divide by zero. "
   ]
  },
  {
   "cell_type": "code",
   "execution_count": 2,
   "id": "1e401d18-de30-4af6-b223-296947ba723e",
   "metadata": {},
   "outputs": [
    {
     "name": "stdout",
     "output_type": "stream",
     "text": [
      "Cannot divide by zero\n"
     ]
    }
   ],
   "source": [
    "num1 = 10\n",
    "num2 = 0\n",
    "\n",
    "try:\n",
    "    result = num1 / num2\n",
    "    print(result)\n",
    "except ZeroDivisionError:\n",
    "    print(\"Cannot divide by zero\")\n"
   ]
  },
  {
   "cell_type": "markdown",
   "id": "d70ccd4c-fe3c-46d8-ba80-69dce45827e8",
   "metadata": {},
   "source": [
    "### Q.3> Which Python statements are used to catch and handle exceptions? Explain with an example "
   ]
  },
  {
   "cell_type": "markdown",
   "id": "4916542a-982d-4fe9-b9d2-51228ddbff56",
   "metadata": {},
   "source": [
    "#### ANSWER"
   ]
  },
  {
   "cell_type": "code",
   "execution_count": 8,
   "id": "ff2cec24-7389-4510-8b2e-a3b47fe735f8",
   "metadata": {},
   "outputs": [
    {
     "name": "stdin",
     "output_type": "stream",
     "text": [
      "Enter your age ankit dhattarwal ki age 20 saal hai \n"
     ]
    },
    {
     "name": "stdout",
     "output_type": "stream",
     "text": [
      "enter age is invalid please enter the valid age \n"
     ]
    }
   ],
   "source": [
    "try :\n",
    "    age = int(input(\"Enter your age\"))\n",
    "    print(\"Your entered age is the:\" , age)\n",
    "except:\n",
    "    print(\"enter age is invalid please enter the valid age \")"
   ]
  },
  {
   "cell_type": "markdown",
   "id": "f9a50c61-7c9b-4ed8-af3b-8e6b4b867406",
   "metadata": {},
   "source": [
    "### Q.4> Explain with an example "
   ]
  },
  {
   "cell_type": "markdown",
   "id": "eca96842-03c5-46c1-883f-b51b96fcbe1c",
   "metadata": {},
   "source": [
    "### a) try and else"
   ]
  },
  {
   "cell_type": "markdown",
   "id": "67534753-34df-4c97-bd89-95fe840ae212",
   "metadata": {},
   "source": [
    "### b) finally"
   ]
  },
  {
   "cell_type": "markdown",
   "id": "1276412e-8a43-4fab-91ac-923e484fec24",
   "metadata": {},
   "source": [
    "### c) raise"
   ]
  },
  {
   "cell_type": "markdown",
   "id": "75a2fb7d-fc25-40b5-b9d4-7c69dbc67c9b",
   "metadata": {},
   "source": [
    "#### ANSWER"
   ]
  },
  {
   "cell_type": "markdown",
   "id": "31ef6dfc-f99a-49ca-9e37-17c193f7fb39",
   "metadata": {},
   "source": [
    "#### A)"
   ]
  },
  {
   "cell_type": "code",
   "execution_count": 11,
   "id": "5e601e41-ff2f-4444-8a17-552b33b2c27d",
   "metadata": {},
   "outputs": [
    {
     "name": "stdin",
     "output_type": "stream",
     "text": [
      "What the question number enter the the one of them  'Four'  and ' 4 '  Four\n"
     ]
    },
    {
     "name": "stdout",
     "output_type": "stream",
     "text": [
      "You are not a human being\n"
     ]
    }
   ],
   "source": [
    "try:\n",
    "    num = int(input(\"What the question number enter the the one of them  'Four'  and ' 4 ' \"))\n",
    "except:\n",
    "    print(\"You are not a human being\")\n",
    "else:\n",
    "    print(\"You are geat and you can able to solve this question \", num)\n",
    "    "
   ]
  },
  {
   "cell_type": "markdown",
   "id": "080f145e-0aef-4645-a929-6651f1e978ec",
   "metadata": {},
   "source": [
    "### B)"
   ]
  },
  {
   "cell_type": "code",
   "execution_count": 13,
   "id": "78251117-94c0-43b1-a87c-3e51be1f4a01",
   "metadata": {},
   "outputs": [],
   "source": [
    "def sum_numbers(a, b):\n",
    "    try:\n",
    "        sum = a + b\n",
    "        print(f\"The sum of {a} and {b} is {sum}\")\n",
    "    except TypeError:\n",
    "        print(\"Error: Invalid argument type\")\n",
    "    finally:\n",
    "        print(\"Thank you for using the sum program\")\n",
    "\n",
    "\n",
    "\n"
   ]
  },
  {
   "cell_type": "code",
   "execution_count": 14,
   "id": "a308777a-7641-4e03-af77-aff5d07dab2c",
   "metadata": {},
   "outputs": [
    {
     "name": "stdout",
     "output_type": "stream",
     "text": [
      "The sum of 5 and 10 is 15\n",
      "Thank you for using the sum program\n"
     ]
    }
   ],
   "source": [
    "sum_numbers(5, 10) "
   ]
  },
  {
   "cell_type": "code",
   "execution_count": 15,
   "id": "26a14a89-d67b-4c18-98a3-5c2c70d46f3f",
   "metadata": {},
   "outputs": [
    {
     "name": "stdout",
     "output_type": "stream",
     "text": [
      "Error: Invalid argument type\n",
      "Thank you for using the sum program\n"
     ]
    }
   ],
   "source": [
    "sum_numbers(\"5\", 10)"
   ]
  },
  {
   "cell_type": "markdown",
   "id": "88185f68-445c-402f-8d4e-6211693ec680",
   "metadata": {},
   "source": [
    "### C)"
   ]
  },
  {
   "cell_type": "code",
   "execution_count": 16,
   "id": "b7c470de-2a58-4a17-a335-16606dee3e37",
   "metadata": {},
   "outputs": [
    {
     "name": "stdout",
     "output_type": "stream",
     "text": [
      "The average of [1, 2, 3, 4, 5] is 3.0\n",
      "Error: The list of numbers cannot be empty\n"
     ]
    }
   ],
   "source": [
    "def calculate_average(numbers):\n",
    "    if not numbers:\n",
    "        raise ValueError(\"The list of numbers cannot be empty\")\n",
    "    total = sum(numbers)\n",
    "    average = total / len(numbers)\n",
    "    return average\n",
    "\n",
    "try:\n",
    "    numbers = [1, 2, 3, 4, 5]\n",
    "    average = calculate_average(numbers)\n",
    "    print(f\"The average of {numbers} is {average}\")\n",
    "    empty_list = []\n",
    "    calculate_average(empty_list)\n",
    "except ValueError as error:\n",
    "    print(f\"Error: {error}\")\n"
   ]
  },
  {
   "cell_type": "markdown",
   "id": "9660fdfa-b225-4763-ad1b-2524a3f7f67b",
   "metadata": {},
   "source": [
    "### Q.5> What are custom exception in pyhton ? Why do we need custom Exceptions ? Explain with an example "
   ]
  },
  {
   "cell_type": "markdown",
   "id": "649f003b-2ec7-417f-a85d-470ab689f246",
   "metadata": {},
   "source": [
    "### ANSWER"
   ]
  },
  {
   "cell_type": "markdown",
   "id": "57436513-f3a1-48fa-98c1-2842fe0ef7e0",
   "metadata": {},
   "source": [
    "### What are custom exception in pyhton ? Why do we need custom Exceptions ? Explain with an example "
   ]
  },
  {
   "cell_type": "markdown",
   "id": "184fe20e-4e80-47c5-a745-565b84cb553c",
   "metadata": {},
   "source": [
    "#### Custom exceptions in Python are user-defined exception classes that inherit from the base Exception class or one of its subclasses. They allow you to define your own specific exceptions for your application or module, providing more meaningful error messages and making your code easier to understand and maintain.\n",
    "\n",
    "#### There are several reasons why you might want to define custom exceptions in Python:\n",
    "\n",
    "#### To provide more specific error messages: Custom exceptions can help provide more informative error messages when something goes wrong in your code, making it easier to debug and troubleshoot problems.\n",
    "\n",
    "#### To make your code more maintainable: By defining custom exceptions, you can create a standardized set of exceptions that your code uses consistently, making it easier for other developers to understand and work with your code.\n",
    "\n",
    "#### To improve code readability: By using custom exceptions with descriptive names, your code can become more readable and self-explanatory, reducing the need for comments or other forms of documentation."
   ]
  },
  {
   "cell_type": "code",
   "execution_count": 17,
   "id": "deab0b13-7a8b-4fb4-8641-1dc252478ef8",
   "metadata": {},
   "outputs": [
    {
     "name": "stdout",
     "output_type": "stream",
     "text": [
      "Cannot calculate the square root of a negative number\n"
     ]
    }
   ],
   "source": [
    "class NegativeNumberError(Exception):\n",
    "    pass\n",
    "\n",
    "def calculate_square_root(number):\n",
    "    if number < 0:\n",
    "        raise NegativeNumberError(\"Cannot calculate the square root of a negative number\")\n",
    "    return math.sqrt(number)\n",
    "\n",
    "try:\n",
    "    result = calculate_square_root(-4)\n",
    "except NegativeNumberError as e:\n",
    "    print(e)\n"
   ]
  },
  {
   "cell_type": "code",
   "execution_count": null,
   "id": "efce2915-b598-4555-a367-732d8a2645ee",
   "metadata": {},
   "outputs": [],
   "source": []
  }
 ],
 "metadata": {
  "kernelspec": {
   "display_name": "Python 3 (ipykernel)",
   "language": "python",
   "name": "python3"
  },
  "language_info": {
   "codemirror_mode": {
    "name": "ipython",
    "version": 3
   },
   "file_extension": ".py",
   "mimetype": "text/x-python",
   "name": "python",
   "nbconvert_exporter": "python",
   "pygments_lexer": "ipython3",
   "version": "3.10.8"
  }
 },
 "nbformat": 4,
 "nbformat_minor": 5
}
