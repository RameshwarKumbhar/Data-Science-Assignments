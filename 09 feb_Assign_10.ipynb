{
 "cells": [
  {
   "cell_type": "markdown",
   "id": "7773af56-3d32-4cfa-878c-9a892af63e5e",
   "metadata": {},
   "source": [
    "Q1, Create a vehicle class with an init method having instance variables as name_of_vehicle, max_speed \n",
    "and average_of_vehicle."
   ]
  },
  {
   "cell_type": "code",
   "execution_count": 11,
   "id": "6e5f71b0-4dd6-4f5e-b342-88e53992b525",
   "metadata": {},
   "outputs": [],
   "source": [
    "class Vehicle:\n",
    "    def __init__(self, name_of_vehicle, max_speed, average_of_vehicle):\n",
    "        self.name_of_vehicle = name_of_vehicle\n",
    "        self.max_speed = max_speed\n",
    "        self.average_of_vehicle = average_of_vehicle"
   ]
  },
  {
   "cell_type": "code",
   "execution_count": 14,
   "id": "82a3ec24-4f0b-466d-b013-d69c717b116f",
   "metadata": {},
   "outputs": [
    {
     "name": "stdout",
     "output_type": "stream",
     "text": [
      "Fortuner\n",
      "250\n",
      "9.2\n"
     ]
    }
   ],
   "source": [
    "mycar = Vehicle(\"Fortuner\", 250, 9.2)\n",
    "print(mycar.name_of_vehicle)\n",
    "print(mycar.max_speed) \n",
    "print(mycar.average_of_vehicle)"
   ]
  },
  {
   "cell_type": "raw",
   "id": "b972bceb-df48-4987-9bd7-e167481208ea",
   "metadata": {},
   "source": []
  },
  {
   "cell_type": "markdown",
   "id": "345439e8-d916-4be7-82d5-c4df346c9773",
   "metadata": {},
   "source": [
    "Q2. Create a child class car from the vehicle class created in Que 1, which will inherit the vehicle class.\n",
    "Create a method named seating_capacity which takes capacity as an argument and returns the name of\n",
    "the vehicle and its seating capacity."
   ]
  },
  {
   "cell_type": "code",
   "execution_count": 16,
   "id": "22b578d8-2be6-478d-a81b-8b958b63b9e9",
   "metadata": {},
   "outputs": [],
   "source": [
    "class Car(Vehicle):\n",
    "    def seating_capacity(self, capacity):\n",
    "        return f\"{self.name_of_vehicle} has a seating capacity of {capacity} passengers.\""
   ]
  },
  {
   "cell_type": "code",
   "execution_count": 18,
   "id": "c598787b-c2f6-4f95-aa14-5a0be35ae1e4",
   "metadata": {},
   "outputs": [
    {
     "name": "stdout",
     "output_type": "stream",
     "text": [
      "Fortuner has a seating capacity of 7 passengers.\n"
     ]
    }
   ],
   "source": [
    "my_car = Car(\"Fortuner\", 200, 8.5)\n",
    "print(my_car.seating_capacity(7))"
   ]
  },
  {
   "cell_type": "raw",
   "id": "7b792e55-f8c9-4b7a-a34e-072973dfc7ae",
   "metadata": {},
   "source": []
  },
  {
   "cell_type": "markdown",
   "id": "f81c5e72-cba4-42cd-ac43-1433c26888c4",
   "metadata": {},
   "source": [
    "Q.3> What is multiple inheritance? Write a python code to demonstrate multiple inheritance."
   ]
  },
  {
   "cell_type": "markdown",
   "id": "7975da71-6a81-453d-8d14-a022a8aa8b10",
   "metadata": {},
   "source": [
    "Multiple inheritance is a feature of object-oriented programming where a class can inherit from multiple parent classes. This allows a \n",
    "child class to inherit attributes and methods from multiple parents, which can be useful in certain situations."
   ]
  },
  {
   "cell_type": "code",
   "execution_count": 28,
   "id": "4787f53c-86ed-473e-aba3-3b5e1b4e4ca5",
   "metadata": {},
   "outputs": [
    {
     "name": "stdout",
     "output_type": "stream",
     "text": [
      "2022 Ola S1 pro with This scooty can go 60 miles on a single charge.\n"
     ]
    }
   ],
   "source": [
    "class Scooty:\n",
    "    def __init__(self, make, model, year):\n",
    "        self.make = make\n",
    "        self.model = model\n",
    "        self.year = year\n",
    "\n",
    "    def get_info(self):\n",
    "        return f\"{self.year} {self.make} {self.model}\"\n",
    "\n",
    "class Electric:\n",
    "    def __init__(self, range):\n",
    "        self.range = range\n",
    "\n",
    "    def get_range(self):\n",
    "        return f\"This scooty can go {self.range} miles on a single charge.\"\n",
    "\n",
    "class HybridCar(Scooty, Electric):\n",
    "    def __init__(self, make, model, year, range):\n",
    "        Scooty.__init__(self, make, model, year)\n",
    "        Electric.__init__(self, range)\n",
    "\n",
    "    def get_info(self):\n",
    "        return f\"{Scooty.get_info(self)} with {Electric.get_range(self)}\"\n",
    "\n",
    "my_car = HybridCar(\"Ola\",\"S1 pro\", 2022, 60)\n",
    "print(my_car.get_info())"
   ]
  },
  {
   "cell_type": "raw",
   "id": "b87846f6-c609-42e8-807d-bc11d65f1fb8",
   "metadata": {},
   "source": []
  },
  {
   "cell_type": "markdown",
   "id": "2b556da0-14ba-4b6a-8077-0764b74276c7",
   "metadata": {},
   "source": [
    "Q.4> What are getter and setter in python? Create a class and create a getter and a setter method in this class."
   ]
  },
  {
   "cell_type": "markdown",
   "id": "1fa8d728-5c19-461a-a764-fee2ecb95a6f",
   "metadata": {},
   "source": [
    "Getter and setter are methods used to access and modify the values of class attributes in object-oriented programming. They are also known as accessor and mutator methods.\n",
    "A getter method is used to access the value of an attribute, while a setter method is used to modify the value of an attribute. The main advantage of using getters and setters is that it allows you to control the way the attributes are accessed and modified, which can help you prevent errors and make your code more robust."
   ]
  },
  {
   "cell_type": "code",
   "execution_count": 33,
   "id": "75ebc279-ace5-4beb-a401-8f832d940815",
   "metadata": {},
   "outputs": [
    {
     "name": "stdout",
     "output_type": "stream",
     "text": [
      "John 25\n"
     ]
    }
   ],
   "source": [
    "class Person:\n",
    "    def __init__(self, name, age):\n",
    "        self._name = name\n",
    "        self._age = age\n",
    "\n",
    "    def get_name(self):\n",
    "        return self._name\n",
    "\n",
    "    def set_name(self, name):\n",
    "        self._name = name\n",
    "\n",
    "    def get_age(self):\n",
    "        return self._age\n",
    "\n",
    "    def set_age(self, age):\n",
    "        self._age = age\n",
    "        \n",
    "final=Person(\"John\",25)\n",
    "print(final.get_name(),final.get_age())"
   ]
  },
  {
   "cell_type": "raw",
   "id": "5c0e19fe-0d60-41ea-bfbc-4d73e83abf43",
   "metadata": {},
   "source": []
  },
  {
   "cell_type": "markdown",
   "id": "d1b76a78-54af-4ae4-a403-72da04c90b6f",
   "metadata": {},
   "source": [
    "Q5.What is method overriding in python? Write a python code to demonstrate method overriding."
   ]
  },
  {
   "cell_type": "markdown",
   "id": "efd11078-5b63-4a70-ac95-a9e099b98b00",
   "metadata": {},
   "source": [
    "Method overriding in Python refers to the ability of a subclass to provide a new implementation \n",
    "of a method that is already defined in its parent class.\n",
    "The subclass can override the method of the parent class by defining a method with the same name in the subclass.\n",
    "\n",
    "When a method is called on an object of the subclass, the new implementation in the subclass is executed,\n",
    "instead of the original implementation in the parent class. This allows the subclass to inherit the behavior\n",
    "of the parent class but to customize it as needed."
   ]
  },
  {
   "cell_type": "raw",
   "id": "f2b2b32e-1092-47da-bd9f-36a58a579cb3",
   "metadata": {},
   "source": []
  }
 ],
 "metadata": {
  "kernelspec": {
   "display_name": "Python 3 (ipykernel)",
   "language": "python",
   "name": "python3"
  },
  "language_info": {
   "codemirror_mode": {
    "name": "ipython",
    "version": 3
   },
   "file_extension": ".py",
   "mimetype": "text/x-python",
   "name": "python",
   "nbconvert_exporter": "python",
   "pygments_lexer": "ipython3",
   "version": "3.10.8"
  }
 },
 "nbformat": 4,
 "nbformat_minor": 5
}
