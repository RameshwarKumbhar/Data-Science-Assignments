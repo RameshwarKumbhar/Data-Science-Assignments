{
 "cells": [
  {
   "cell_type": "markdown",
   "id": "b4092d5d-ef0b-4fe3-b097-5b9de06a6021",
   "metadata": {},
   "source": [
    "Q1. Explain Class and Object with respect to Object-Oriented Programming. Give a suitable example."
   ]
  },
  {
   "cell_type": "markdown",
   "id": "079ab3c9-370a-45ab-8bff-cca42a951149",
   "metadata": {},
   "source": [
    "Class is a user-defined data type that can be used to create objects of that type. It is the blueprint or template from which objects are created. It is a collection of related attributes and methods. \n",
    "\n",
    "An object is an instance of a class. It is the real-world entity that contains the state and behavior of the class. It represents the actual data or information about the class.\n",
    "\n",
    "For example, let us consider a class Car in Python."
   ]
  },
  {
   "cell_type": "code",
   "execution_count": 1,
   "id": "f6ca72ac-5254-425c-9114-063901e31ec8",
   "metadata": {},
   "outputs": [
    {
     "name": "stdout",
     "output_type": "stream",
     "text": [
      "The color of the car is Red\n",
      "Car started\n"
     ]
    }
   ],
   "source": [
    "class Car:\n",
    "\n",
    "    def __init__(self, color, model, type):\n",
    "        self.color = color\n",
    "        self.model = model\n",
    "        self.type = type\n",
    "\n",
    "    def start(self):\n",
    "        print(\"Car started\")\n",
    "\n",
    "# creating object of class Car \n",
    "ford_car = Car(\"Red\", \"Ford\", \"Hatchback\") \n",
    "\n",
    "# accessing attributes and methods of class Car \n",
    "print(\"The color of the car is\", ford_car.color) \n",
    "ford_car.start() "
   ]
  },
  {
   "cell_type": "markdown",
   "id": "5e14e24c-1995-48b3-bf5c-b04c144d1bf4",
   "metadata": {},
   "source": [
    "Q2. Name the four pillars of OOPs."
   ]
  },
  {
   "cell_type": "raw",
   "id": "39156065-7493-48c6-bfa5-853deed9dc84",
   "metadata": {},
   "source": [
    "Their are four pillars of OOP's which are follows:\n",
    "\n",
    "1.Encapsulation: Encapsulation refers to the practice of hiding the internal workings of an object from the outside world, \n",
    "and only exposing the necessary information through methods and interfaces. This helps to prevent outside interference\n",
    "and allows for easier maintenance and updates.\n",
    "\n",
    "2.Abstraction: Abstraction involves simplifying complex systems by focusing on the essential features and ignoring the rest.\n",
    "This allows for the creation of more generalized and reusable classes, as well as easier maintenance.\n",
    "\n",
    "3.Inheritance: Inheritance is the ability for a new class to be based on an existing class, inheriting all of its attributes \n",
    "and methods. This allows for the creation of more specialized classes that can reuse and build upon the behavior of their parent \n",
    "classes.\n",
    "\n",
    "4.Polymorphism: Polymorphism refers to the ability of different objects to respond to the same message or method call in different\n",
    "ways. This allows for greater flexibility and extensibility in the design of the code."
   ]
  },
  {
   "cell_type": "markdown",
   "id": "a885ab78-e86b-4cfd-b3ce-2933e7708732",
   "metadata": {},
   "source": []
  },
  {
   "cell_type": "markdown",
   "id": "505e065f-0c86-443f-bc57-138a7b2289ba",
   "metadata": {},
   "source": [
    "Q3. Explain why the __init__() function is used. Give a suitable example."
   ]
  },
  {
   "cell_type": "markdown",
   "id": "d8d82b41-283b-4187-8a6b-d8ca3b591159",
   "metadata": {},
   "source": [
    "The __init__ is besically a cnstructor in python.Constructors are used to initializing the object’s state. \n",
    "The task of constructors is to initialize(assign values) to the data members of the class when an object of the class is \n",
    "created. Like methods, a constructor also contains a collection of statements(i.e. instructions)\n",
    "that are executed at the time of Object creation. It is run as soon as an object of a class is instantiated.\n",
    "The method is useful to do any initialization you want to do with your object.\n",
    "The __init__ function is called every time an object is created from a class.\n",
    "The __init__ method lets the class initialize the object's attributes and serves no other purpose.\n",
    "It is only used within classes.\"\"\""
   ]
  },
  {
   "cell_type": "code",
   "execution_count": 2,
   "id": "75da78fb-9dc7-4727-ade1-1618e3975d1f",
   "metadata": {},
   "outputs": [
    {
     "name": "stdout",
     "output_type": "stream",
     "text": [
      "hello ,my name is  Harry\n"
     ]
    }
   ],
   "source": [
    "class Student:\n",
    " \n",
    "    def __init__(self, name):\n",
    "        self.name = name\n",
    "    def note1(self):\n",
    "        print(\"hello ,my name is \" ,self.name)\n",
    " \n",
    "s = Student('Harry')\n",
    "s.note1()"
   ]
  },
  {
   "cell_type": "raw",
   "id": "96f993f2-8105-4024-b8ce-76ea33ff526a",
   "metadata": {},
   "source": []
  },
  {
   "cell_type": "markdown",
   "id": "92e0c233-5ac7-44cf-9ac0-cbeb8dc05347",
   "metadata": {},
   "source": [
    "Q4. Why self is used in OOPs?"
   ]
  },
  {
   "cell_type": "raw",
   "id": "806f65cf-e71e-45ec-b1cd-3ce47333df98",
   "metadata": {},
   "source": [
    "In Object-Oriented Programming (OOP), self is a reference to the instance of the class that is being manipulated. \n",
    "It is a convention in many OOP languages (such as Python) to use the name self as the first parameter of instance methods, to refer to the instance itself.\n",
    "\n",
    "The use of self is important in OOP for several reasons:\n",
    "\n",
    "It allows instance methods to access and modify the attributes of the instance they belong to. Without self, \n",
    "there would be no way for an instance method to know which instance it was being called on, and therefore no way to access\n",
    "or modify its attributes.\n",
    "\n",
    "It allows for the creation of multiple instances of the same class, each with its own set of attributes and behavior. \n",
    "By using self to refer to the current instance, we can ensure that each instance is manipulated independently.\n",
    "\n",
    "It helps to avoid naming conflicts between instance attributes and method parameters. By convention, instance attributes\n",
    "are usually given names that start with an underscore or a double underscore, to differentiate them from method parameters. \n",
    "Using self as the first parameter of instance methods helps to make this convention clear.\n",
    "\n",
    "Overall, self is a key component of OOP and is essential for creating robust and reusable code."
   ]
  },
  {
   "cell_type": "markdown",
   "id": "a6029280-cdbd-4c8a-a526-3a3fe2c29b47",
   "metadata": {},
   "source": []
  },
  {
   "cell_type": "markdown",
   "id": "2eff760d-978c-43f0-b8d7-91f6da134f56",
   "metadata": {},
   "source": [
    "Q5. What is inheritance? Give an example for each type of inheritance."
   ]
  },
  {
   "cell_type": "raw",
   "id": "d73e10ee-bf37-4918-8cdb-666c784c9731",
   "metadata": {},
   "source": [
    "Inheritance is a mechanism of acquiring the features and behaviors of a class by another class. \n",
    "The class whose members are inherited is called the base class, and the class that inherits those members is called \n",
    "the derived class. Inheritance implements the IS-A relationship.\n",
    "Different Types of Inheritance\n",
    "OOPs support the six different types of inheritance as given below :\n",
    "\n",
    "Single inheritance\n",
    "Multi-level inheritance\n",
    "Multiple inheritance\n",
    "Multipath inheritance\n",
    "Hierarchical Inheritance\n",
    "Hybrid Inheritance\n",
    "\n",
    "example-\n",
    "Single inheritance\n",
    "In this inheritance, a derived class is created from a single base class.\n",
    "In the given example, Class A is the parent class and Class B is the child class since Class B inherits\n",
    "the features and behavior of the parent class A.\n",
    "\"\"\"\n",
    "class A \n",
    "{\n",
    " public void fooA()\n",
    " {\n",
    " \n",
    " }\n",
    "}\n",
    "\n",
    "//Derived Class\n",
    "class B : A\n",
    "{\n",
    " public void fooB()\n",
    " {\n",
    "\n",
    " }\n",
    "}"
   ]
  },
  {
   "cell_type": "raw",
   "id": "5bb7402b-3f5a-4e5e-adcf-0ee4e2f6f7da",
   "metadata": {},
   "source": [
    "Multi-level inheritance\n",
    "In this inheritance, a derived class is created from another derived class.\n",
    "In the given example, class c inherits the properties and behavior of class B and class B inherits the\n",
    "properties and behavior of class B. So, here A is the parent class of B and class B is the parent class of C.\n",
    "So, here class C implicitly inherits the properties and behavior of class A along with Class B i.e \n",
    "there is a multilevel of inheritance.\n",
    "\"\"\"\n",
    "//Base Class\n",
    "class A \n",
    "{\n",
    " public void fooA()\n",
    " {\n",
    "\n",
    " }\n",
    "}\n",
    "\n",
    "//Derived Class\n",
    "class B : A\n",
    "{\n",
    " public void fooB()\n",
    " {\n",
    "\n",
    " }\n",
    "}\n",
    "\n",
    "//Derived Class\n",
    "class C : B\n",
    "{\n",
    " public void fooC()\n",
    " {\n",
    "\n",
    " }\n",
    "}"
   ]
  },
  {
   "cell_type": "markdown",
   "id": "24d0474b-474e-4558-a6ee-374c9a0e83d7",
   "metadata": {},
   "source": []
  },
  {
   "cell_type": "markdown",
   "id": "bb0696c4-f179-4455-96a1-b28b13cf0bcf",
   "metadata": {},
   "source": []
  }
 ],
 "metadata": {
  "kernelspec": {
   "display_name": "Python 3 (ipykernel)",
   "language": "python",
   "name": "python3"
  },
  "language_info": {
   "codemirror_mode": {
    "name": "ipython",
    "version": 3
   },
   "file_extension": ".py",
   "mimetype": "text/x-python",
   "name": "python",
   "nbconvert_exporter": "python",
   "pygments_lexer": "ipython3",
   "version": "3.10.8"
  }
 },
 "nbformat": 4,
 "nbformat_minor": 5
}
