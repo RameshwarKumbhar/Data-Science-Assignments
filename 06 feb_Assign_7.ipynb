{
 "cells": [
  {
   "cell_type": "raw",
   "id": "1d001535-d5fa-4e00-b2cf-3e65adb3df60",
   "metadata": {},
   "source": [
    "Q1. Create a function which will take a list as an argument and return the product of all the numbers \n",
    "after creating a flat list.\n",
    "\n",
    "Use the below-given list as an argument for your function.\n",
    "\n",
    "\n",
    "list1 = [1,2,3,4, [44,55,66, True], False, (34,56,78,89,34), {1,2,3,3,2,1}, {1:34, \"key2\": [55, 67, 78, 89], 4: (45, \n",
    "22, 61, 34)}, [56, 'data science'], 'Machine Learning']"
   ]
  },
  {
   "cell_type": "code",
   "execution_count": null,
   "id": "f747925c-c8c5-4fde-be18-a947a9c3c7cf",
   "metadata": {},
   "outputs": [],
   "source": [
    "def calculate_product(lst):\n",
    "    flattened_list = flatten_list(lst)\n",
    "    numbers = filter_numbers(flattened_list)\n",
    "    \n",
    "    product = 1\n",
    "    for num in numbers:\n",
    "        product *= num\n",
    "    \n",
    "    return product\n",
    "\n",
    "def flatten_list(lst):\n",
    "    flattened = []\n",
    "    for item in lst:\n",
    "        if isinstance(item, list):\n",
    "            flattened.extend(flatten_list(item))\n",
    "        else:\n",
    "            flattened.append(item)\n",
    "    \n",
    "    return flattened\n",
    "\n",
    "def filter_numbers(lst):\n",
    "    return [num for num in lst if isinstance(num, (int, float))]\n",
    "\n",
    "# Test the function\n",
    "list1 = [1, 2, 3, 4, [44, 55, 66, True], False, (34, 56, 78, 89, 34), {1, 2, 3, 3, 2, 1}, {1: 34, \"key2\": [55, 67, 78, 89], 4: (45, 22, 61, 34)}, [56, 'data science'], 'Machine Learning']\n",
    "result = calculate_product(list1)\n",
    "print(result)\n"
   ]
  },
  {
   "cell_type": "raw",
   "id": "f4617e63-9801-4cd2-8d90-8ea3d47e0db8",
   "metadata": {},
   "source": []
  },
  {
   "cell_type": "markdown",
   "id": "90f6bad5-e6f6-4bfb-a5b3-0e9089cc55c2",
   "metadata": {},
   "source": [
    "Q2. Write a python program for encrypting a message sent to you by your friend. The logic of encryption \n",
    "should be such that, for a the output should be z. For b, the output should be y. For c, the output should \n",
    "be x respectively. Also, the whitespace should be replaced with a dollar sign. Keep the punctuation \n",
    "marks unchanged.\n",
    "\n",
    "\n",
    "Input Sentence: I want to become a Data Scientist.\n",
    "\n",
    "\n",
    "Encrypt the above input sentence using the program you just created."
   ]
  },
  {
   "cell_type": "code",
   "execution_count": 10,
   "id": "adf51d78-70cb-415d-9d58-26162405e938",
   "metadata": {},
   "outputs": [
    {
     "name": "stdout",
     "output_type": "stream",
     "text": [
      "r$dzmg$gl$yvxlnv$z$wzgz$hxrvmgrhg.\n"
     ]
    }
   ],
   "source": [
    "def encrypt(message):\n",
    "    output = \"\"\n",
    "    for char in message:\n",
    "        if char == \" \":\n",
    "            output += \"$\"\n",
    "        elif char.isalpha():\n",
    "            output += chr(122 - (ord(char) - 97))\n",
    "        else:\n",
    "            output += char\n",
    "    return output.lower()\n",
    "\n",
    "\n",
    "input_sentence = \"I want to become a Data Scientist.\"\n",
    "encrypted_sentence = encrypt(input_sentence.lower())\n",
    "print(encrypted_sentence)"
   ]
  },
  {
   "cell_type": "code",
   "execution_count": null,
   "id": "eee95c9b-8ddc-45af-a3ce-84856c1e3dc5",
   "metadata": {},
   "outputs": [],
   "source": []
  }
 ],
 "metadata": {
  "kernelspec": {
   "display_name": "Python 3 (ipykernel)",
   "language": "python",
   "name": "python3"
  },
  "language_info": {
   "codemirror_mode": {
    "name": "ipython",
    "version": 3
   },
   "file_extension": ".py",
   "mimetype": "text/x-python",
   "name": "python",
   "nbconvert_exporter": "python",
   "pygments_lexer": "ipython3",
   "version": "3.10.8"
  }
 },
 "nbformat": 4,
 "nbformat_minor": 5
}
