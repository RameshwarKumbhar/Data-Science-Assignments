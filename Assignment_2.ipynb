{
 "cells": [
  {
   "cell_type": "markdown",
   "id": "e0f5440d-3b3c-4bef-a1c3-4a3db485619e",
   "metadata": {},
   "source": [
    "Q.1  Write a program to accept percentage from thr user and display the grade according to the following criteria :"
   ]
  },
  {
   "cell_type": "code",
   "execution_count": 4,
   "id": "9fc6e2f4-78dc-4b1f-b0b9-305f0c86a1b1",
   "metadata": {},
   "outputs": [
    {
     "name": "stdin",
     "output_type": "stream",
     "text": [
      "Enter marks :  92\n"
     ]
    },
    {
     "name": "stdout",
     "output_type": "stream",
     "text": [
      "A\n"
     ]
    }
   ],
   "source": [
    "# input marks \n",
    "marks=int(input(\"Enter marks : \"))\n",
    "# check criteria \n",
    "if(marks>90):\n",
    "   print(\"A\")\n",
    "if(marks<=90 and marks >80):\n",
    "   print(\"B\")\n",
    "if(marks>=60 and marks <=80):\n",
    "   print(\"C\")\n",
    "if(marks<60):\n",
    "   print(\"D\")"
   ]
  },
  {
   "cell_type": "markdown",
   "id": "63b49867-2825-49b9-b203-c7647ff9294f",
   "metadata": {},
   "source": [
    "Q.2  Write a program to accept the cost price  of a bike and display"
   ]
  },
  {
   "cell_type": "code",
   "execution_count": 8,
   "id": "a7d991ad-3464-4c02-aafa-7d76fe41341f",
   "metadata": {},
   "outputs": [
    {
     "name": "stdin",
     "output_type": "stream",
     "text": [
      "Enter cost price of bike :  115000\n"
     ]
    },
    {
     "name": "stdout",
     "output_type": "stream",
     "text": [
      "15% tax and Tax= 17250.0  and Total= 132250.0\n"
     ]
    }
   ],
   "source": [
    "# cost price of bike as a user input\n",
    "price=int(input('Enter cost price of bike : '))\n",
    "# taxs according to it \n",
    "if price>10000:\n",
    "    print('15% tax and Tax=',price*0.15,' and Total=',price*0.15+price)\n",
    "if price>50000 and price<=100000:\n",
    "    print('10% tax and Tax=',price*0.1,' and Total=',price*0.10+price)\n",
    "if price<=50000:\n",
    "    print('5% tax and Tax=',price*0.05,' and Total=',price*0.05+price)"
   ]
  },
  {
   "cell_type": "markdown",
   "id": "9fca28b2-9e43-4263-b6ef-09e9c78de117",
   "metadata": {},
   "source": [
    "Q.3   Accept any city from user and display moniment of that city :"
   ]
  },
  {
   "cell_type": "code",
   "execution_count": 10,
   "id": "1af4c54c-8e37-4c87-87a0-f5e45e4dc68d",
   "metadata": {},
   "outputs": [
    {
     "name": "stdin",
     "output_type": "stream",
     "text": [
      "Enter city name :  Delhi\n"
     ]
    },
    {
     "name": "stdout",
     "output_type": "stream",
     "text": [
      "Red Fort\n"
     ]
    }
   ],
   "source": [
    "# user input\n",
    "city=input('Enter city name : ')\n",
    "# check city and monument\n",
    "if city=='Delhi':\n",
    "    print('Red Fort')\n",
    "if city=='Agra':\n",
    "    print('Tal Mahal')\n",
    "if city=='Jaipur':\n",
    "    print(\"Jal Mahal\")"
   ]
  },
  {
   "cell_type": "markdown",
   "id": "a252f3e8-79b0-4c4d-8345-d5ebca6a5c13",
   "metadata": {},
   "source": [
    "Q.4  check how many times a number can be divided by  3 Before it is less than or equal to 10"
   ]
  },
  {
   "cell_type": "code",
   "execution_count": 12,
   "id": "2b08d0f5-e01d-4e94-be4a-900bfe56bcb8",
   "metadata": {},
   "outputs": [
    {
     "name": "stdin",
     "output_type": "stream",
     "text": [
      "Enter a number :  67\n"
     ]
    },
    {
     "name": "stdout",
     "output_type": "stream",
     "text": [
      "The number can be divided by 3 is 2 times before it is less than or equal to 10.\n"
     ]
    }
   ],
   "source": [
    "# user input a number\n",
    "num=int(input(\"Enter a number : \"))\n",
    "# declare a variable\n",
    "count=0\n",
    "# check condition\n",
    "while num>10:\n",
    "    # if yes, then divide it by 3\n",
    "    num/=3\n",
    "    # increase count\n",
    "    count+=1\n",
    "    \n",
    "# print how many times it repeated\n",
    "print(\"The number can be divided by 3 is\", count, \"times before it is less than or equal to 10.\")"
   ]
  },
  {
   "cell_type": "markdown",
   "id": "c92b2398-01db-4f18-b670-7c4db9663051",
   "metadata": {},
   "source": [
    "Q.5  Why and when to use while loop in python give a detailed description with example"
   ]
  },
  {
   "cell_type": "markdown",
   "id": "53cbf706-4f5d-41d7-b88b-63d2b58af974",
   "metadata": {},
   "source": [
    "A while loop in Python is used to repeatedly execute a block of code as long as a certain condition is met. The loop will keep \n",
    "running as long as the condition is True, and will exit when the condition becomes False.\n",
    "\n",
    "Here's the general syntax for a while loop in Python: while condition: Code to be executed\n",
    "\n",
    "Here's an example that demonstrates the use of a while loop: Print the numbers from 1 to 10\n",
    "\n",
    "counter = 1 while counter <= 10: print(counter) counter += 1\n",
    "\n",
    "In this example, the while loop will run as long as the value of counter is less than or equal to 10. On each iteration of the \n",
    "loop, the value of counter is printed,and then incremented by 1. The loop will exit when the value of counter becomes greater than 10.\n",
    "\n",
    "The while loop is useful when you don't know in advance how many times you need to loop, and you want to keep looping until a certain \n",
    "condition is met. For example, you can use a while loop to read data from a file until the end of the file is reached, or to keep asking the user for input until a valid response is given."
   ]
  },
  {
   "cell_type": "markdown",
   "id": "f78f843d-fb52-47ff-ba85-dd46382bfe87",
   "metadata": {},
   "source": [
    "Q.6  Use nested while loop to print 3 different pattern"
   ]
  },
  {
   "cell_type": "code",
   "execution_count": 5,
   "id": "6af914bb-d198-4600-9123-19288b35766c",
   "metadata": {},
   "outputs": [
    {
     "name": "stdout",
     "output_type": "stream",
     "text": [
      "Pattern 2\n",
      "*\n",
      "**\n",
      "***\n",
      "****\n",
      "----------------------------------------------------------------\n",
      "Pattern 2\n",
      "1\n",
      "12\n",
      "123\n",
      "1234\n",
      "----------------------------------------------------------------\n",
      "* * * * * \n",
      "* * * * \n",
      "* * * \n",
      "* * \n",
      "* \n"
     ]
    }
   ],
   "source": [
    "print(\"Pattern 2\")\n",
    "# initialize variables \n",
    "i = 1\n",
    "j = 1\n",
    "\n",
    "# while loop\n",
    "while i<5:\n",
    "    # nested while\n",
    "    while j <=i:\n",
    "        # printed * without space\n",
    "        print(\"*\", end=\"\")\n",
    "        # increment j by 1\n",
    "        j += 1\n",
    "    # print new line\n",
    "    print()\n",
    "    # reset value of j\n",
    "    j=1\n",
    "    # increment value of i by 1\n",
    "    i+=1\n",
    "\n",
    "print(\"----------------------------------------------------------------\")\n",
    "# Pattern 2 \n",
    "print(\"Pattern 2\")\n",
    "\n",
    "# Initialize variables \n",
    "i = 1\n",
    "j = 1\n",
    "\n",
    "# while loop\n",
    "while i < 5:\n",
    "    # nested while\n",
    "    while j <= i:\n",
    "        # printed j without space\n",
    "        print(j, end=\"\")\n",
    "        # increment j by 1\n",
    "        j += 1\n",
    "    # print new line\n",
    "    print()\n",
    "    # reset value of j\n",
    "    j = 1\n",
    "    # increment value of i by 1\n",
    "    i += 1\n",
    "\n",
    "print(\"----------------------------------------------------------------\")\n",
    "# pattern 3\n",
    "i = 1\n",
    "j = 5\n",
    "# while loop\n",
    "while i <= 5 :\n",
    "    j = 5\n",
    "    # nested while\n",
    "    while j >= i:\n",
    "         # printed * without space\n",
    "        print(\"*\", end = \" \")\n",
    "         # decrement j by 1\n",
    "        j -= 1\n",
    "    # print new line\n",
    "    print()\n",
    "    # increment value of i by 1\n",
    "    i += 1"
   ]
  },
  {
   "cell_type": "markdown",
   "id": "27d57e15-d5e5-49d0-b5c0-077d9ecc4593",
   "metadata": {},
   "source": [
    "Q.7  reverse a while loop to display the numbers from 10 to 1"
   ]
  },
  {
   "cell_type": "code",
   "execution_count": 6,
   "id": "ce2dd9e4-dcd9-4cb2-bcc8-9e1a6a414aad",
   "metadata": {},
   "outputs": [
    {
     "name": "stdout",
     "output_type": "stream",
     "text": [
      "10\n",
      "9\n",
      "8\n",
      "7\n",
      "6\n",
      "5\n",
      "4\n",
      "3\n",
      "2\n",
      "1\n"
     ]
    }
   ],
   "source": [
    "# variable declaration\n",
    "maxi=10\n",
    "mini=1\n",
    "\n",
    "# while loop\n",
    "while maxi>=mini:\n",
    "    # print maxi\n",
    "    print(maxi)\n",
    "    # decrement maxi by 1\n",
    "    maxi-=1"
   ]
  },
  {
   "cell_type": "markdown",
   "id": "90926433-030b-4e86-8f2d-d14dfa55b30c",
   "metadata": {},
   "source": [
    "Q.8  reverse a while loop to display the numbers from 10 to 1"
   ]
  },
  {
   "cell_type": "code",
   "execution_count": 8,
   "id": "487b2332-7118-4933-baa8-999a756780b8",
   "metadata": {},
   "outputs": [
    {
     "name": "stdout",
     "output_type": "stream",
     "text": [
      "10\n",
      "9\n",
      "8\n",
      "7\n",
      "6\n",
      "5\n",
      "4\n",
      "3\n",
      "2\n",
      "1\n"
     ]
    }
   ],
   "source": [
    "# variable declaration\n",
    "maxi=10\n",
    "mini=1\n",
    "\n",
    "# while loop\n",
    "while maxi>=mini:\n",
    "    # print maxi\n",
    "    print(maxi)\n",
    "    # decrementmaxi by 1\n",
    "    maxi-=1"
   ]
  },
  {
   "cell_type": "code",
   "execution_count": null,
   "id": "70d9632c-37fa-4f75-a6bf-beb20bca16b9",
   "metadata": {},
   "outputs": [],
   "source": []
  }
 ],
 "metadata": {
  "kernelspec": {
   "display_name": "Python 3 (ipykernel)",
   "language": "python",
   "name": "python3"
  },
  "language_info": {
   "codemirror_mode": {
    "name": "ipython",
    "version": 3
   },
   "file_extension": ".py",
   "mimetype": "text/x-python",
   "name": "python",
   "nbconvert_exporter": "python",
   "pygments_lexer": "ipython3",
   "version": "3.10.8"
  }
 },
 "nbformat": 4,
 "nbformat_minor": 5
}
