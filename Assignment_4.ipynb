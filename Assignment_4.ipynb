{
 "cells": [
  {
   "cell_type": "markdown",
   "id": "39bba5d7-9290-4760-ad5e-b49796d27394",
   "metadata": {},
   "source": [
    "Q.1   Which keyword is used to create a function? Create a function to return a list of odd numbers in the range of 1 to 25."
   ]
  },
  {
   "cell_type": "markdown",
   "id": "34b8083f-76cb-41c9-9f3e-ffecbeb301ce",
   "metadata": {},
   "source": [
    "Ans.   def keyword is used to create functon "
   ]
  },
  {
   "cell_type": "code",
   "execution_count": 1,
   "id": "372874c2-d368-4709-8032-5de3ba2b0293",
   "metadata": {},
   "outputs": [
    {
     "data": {
      "text/plain": [
       "[1, 3, 5, 7, 9, 11, 13, 15, 17, 19, 21, 23]"
      ]
     },
     "execution_count": 1,
     "metadata": {},
     "output_type": "execute_result"
    }
   ],
   "source": [
    "# list of odd number between 1 to 25\n",
    "list=[]\n",
    "def listOfOdd():\n",
    "    for i in range(1,25):\n",
    "        if i%2==1:\n",
    "            list.append(i)\n",
    "    return list\n",
    "listOfOdd()"
   ]
  },
  {
   "cell_type": "markdown",
   "id": "35433300-5bdc-4b35-ac9f-0c59d505ffc8",
   "metadata": {},
   "source": [
    "Q.2  Why args and kwargs is used in some functions? Create a function each for args and kwargs to demonstrate their use."
   ]
  },
  {
   "cell_type": "markdown",
   "id": "ffe993e1-224c-48de-bf1d-a2ec79fe2b76",
   "metadata": {},
   "source": [
    "Ans:   We use args and *kwargs as an argument when we are do not know about how many arguments to pass in the functions."
   ]
  },
  {
   "cell_type": "code",
   "execution_count": 3,
   "id": "078e0e43-659f-4d03-8df4-241e3ba74f40",
   "metadata": {},
   "outputs": [
    {
     "name": "stdout",
     "output_type": "stream",
     "text": [
      "The args[0] having their value = Hello\n",
      "The args[1] having their value = PW skill\n",
      "The args[2] having their value = Data Science Master Course\n",
      "The args[3] having their value = 3200\n",
      "The kwargs[0] and key ='SourceName' their value ='PW Skill'\n",
      "The kwargs[1] and key ='CourseName' their value ='Data Science Master IN Hinglish'\n",
      "The kwargs[2] and key ='Mode' their value ='Online'\n",
      "The kwargs[3] and key ='CourseEnrolled' their value ='Data Science Master'\n",
      "The kwargs[4] and key ='CourseFee' their value ='3200'\n"
     ]
    }
   ],
   "source": [
    "#a function for *args to demonstrate its use.\n",
    "def practice1(*args):\n",
    "    \"\"\"a function for *args to demonstrate its use.\"\"\"\n",
    "    index=0\n",
    "    for i in args:\n",
    "        print(\"The args[\"+str(index)+\"] having their value =\",i)\n",
    "        index+=1\n",
    "practice1(\"Hello\", \"PW skill\", \"Data Science Master Course\",3200)\n",
    " \n",
    " #a function for kwargs to demonstrate its use.\n",
    "def solve2(**kwargs):\n",
    "    \"\"\"a function for kwargs to demonstrate its use.\"\"\"\n",
    "    index=0\n",
    "    for key, value in kwargs.items():\n",
    "        print(\"The kwargs[\"+str(index)+\"] and key ='\"+str(key)+ \"' their value ='\"+str(value)+\"'\")\n",
    "        index+=1\n",
    "solve2(SourceName= \"PW Skill\", CourseName= \"Data Science Master IN Hinglish\", Mode= \"Online\", CourseEnrolled= \"Data Science Master\", CourseFee=3200 )"
   ]
  },
  {
   "cell_type": "markdown",
   "id": "b85eee90-2387-4693-af2a-2577bd0cebc6",
   "metadata": {},
   "source": []
  },
  {
   "cell_type": "markdown",
   "id": "f65d9ee2-a03f-440d-a474-9e3eededcc84",
   "metadata": {},
   "source": [
    "Q3. What is an iterator in python? Name the method used to initialise the iterator object and the method\n",
    "used for iteration. Use these methods to print the first five elements of the given list [2, 4, 6, 8, 10, 12, 14,\n",
    "16, 18, 20]."
   ]
  },
  {
   "cell_type": "markdown",
   "id": "ce29d995-0c9c-4e8e-a19f-b59d3c362300",
   "metadata": {},
   "source": [
    "An iterator in Python is an object that can be iterated (looped) upon. It implements the iterator protocol, which consists of two methods: iter() and next().\n",
    "\n",
    "The iter() method is used to initialize the iterator object and the next() method is used for iteration. The next() method returns the next value from the iterator each time it is called and raises a StopIteration exception when there are no more values to return."
   ]
  },
  {
   "cell_type": "code",
   "execution_count": 5,
   "id": "7f981440-5de0-4ef6-b720-549e8e4696c7",
   "metadata": {},
   "outputs": [
    {
     "name": "stdout",
     "output_type": "stream",
     "text": [
      "0\n",
      "1\n",
      "1\n",
      "2\n",
      "3\n",
      "5\n",
      "8\n"
     ]
    }
   ],
   "source": [
    "#Use iterator methods to print the first seven elements of the given list [0,1,1,2,3,5,8,13,21,34]\n",
    "l=[0,1,1,2,3,5,8,13,21,34]\n",
    "count=0\n",
    "for i in l:\n",
    "    if count<7:\n",
    "        print(i)\n",
    "        count+=1"
   ]
  },
  {
   "cell_type": "markdown",
   "id": "b50d74e8-d643-4348-8ca0-3618ea541dda",
   "metadata": {},
   "source": []
  },
  {
   "cell_type": "markdown",
   "id": "d662dd98-df08-4673-a1f9-5a178b69f20e",
   "metadata": {},
   "source": [
    "Q4. What is a generator function in python? Why yield keyword is used? Give an example of a generator\n",
    "function."
   ]
  },
  {
   "cell_type": "markdown",
   "id": "23e93eff-8b92-4fd3-af1e-079a39986162",
   "metadata": {},
   "source": [
    "Ans: A generator function in Python is a special type of function that returns a generator iterator, which can be used to iterate over a sequence of elements. A generator function is defined like a normal function, but instead of using the return statement to return a value, it uses the yield statement. The yield statement is used to produce a value, and the generator function can be resumed from where it left off the next time next() is called on the generator."
   ]
  },
  {
   "cell_type": "code",
   "execution_count": 6,
   "id": "97f7f0b0-aa50-4b60-baef-b653f0c14432",
   "metadata": {},
   "outputs": [
    {
     "name": "stdout",
     "output_type": "stream",
     "text": [
      "0\n",
      "1\n",
      "1\n",
      "2\n",
      "3\n",
      "5\n",
      "8\n",
      "13\n",
      "21\n",
      "34\n"
     ]
    }
   ],
   "source": [
    "# example of a generator function that generates the Fibonacci sequence:\n",
    "# the fibonacci series program using generator yield\n",
    "def fibonacci():\n",
    "    a, b = 0, 1\n",
    "    while True:\n",
    "        yield a\n",
    "        a, b = b, a + b\n",
    "\n",
    "fib = fibonacci()\n",
    "for i in range(10):\n",
    "    print(next(fib))"
   ]
  },
  {
   "cell_type": "markdown",
   "id": "63858705-9946-4b12-92f3-b08aecff08c0",
   "metadata": {},
   "source": []
  },
  {
   "cell_type": "markdown",
   "id": "5e98108a-70d0-4496-8971-f8bbe3dfb3f6",
   "metadata": {},
   "source": [
    "Q.5 Create a generator function for prime numbers less than 1000. Use the next() method to print the first 20 prime numbers."
   ]
  },
  {
   "cell_type": "code",
   "execution_count": 14,
   "id": "37650b68-9f72-4a41-875d-c906761753d6",
   "metadata": {},
   "outputs": [
    {
     "name": "stdout",
     "output_type": "stream",
     "text": [
      "2\n",
      "3\n",
      "5\n",
      "7\n",
      "11\n",
      "13\n",
      "17\n",
      "19\n",
      "23\n",
      "29\n",
      "31\n",
      "37\n",
      "41\n",
      "43\n",
      "47\n",
      "53\n",
      "59\n",
      "61\n",
      "67\n",
      "71\n"
     ]
    }
   ],
   "source": [
    "def primeNumber():\n",
    "    yield 2\n",
    "    primeNumber_list = [2]\n",
    "    for i in range(3, 1000):\n",
    "        isPrime = True\n",
    "        for prime in primeNumber_list:\n",
    "            if i % prime == 0:\n",
    "                isPrime = False\n",
    "                break\n",
    "        if isPrime:\n",
    "            primeNumber_list.append(i)\n",
    "            yield i\n",
    "\n",
    "primeNumber_genarator = primeNumber()\n",
    "# the next() method to print the first 20 prime numbers.\n",
    "for i in range(20):\n",
    "    print(next(primeNumber_genarator))"
   ]
  },
  {
   "cell_type": "markdown",
   "id": "69826a6a-c8f5-45cf-a84d-fd135177edea",
   "metadata": {},
   "source": []
  },
  {
   "cell_type": "markdown",
   "id": "83215ef8-98ea-4c6e-8526-d0d4867872ad",
   "metadata": {},
   "source": [
    "Q.6   Write a python program to print the first 10 Fibonacci numbers using a while loop."
   ]
  },
  {
   "cell_type": "code",
   "execution_count": 15,
   "id": "9d341172-1da8-4d50-b9b2-a499cfd0f1d0",
   "metadata": {},
   "outputs": [
    {
     "name": "stdout",
     "output_type": "stream",
     "text": [
      "0\n",
      "1\n",
      "1\n",
      "2\n",
      "3\n",
      "5\n",
      "8\n",
      "13\n",
      "21\n",
      "34\n"
     ]
    }
   ],
   "source": [
    "def fibonacci(n):\n",
    "    a, b = 0, 1\n",
    "    count = 0\n",
    "    while count < n:\n",
    "        print(a)\n",
    "        a, b = b, a + b\n",
    "        count += 1\n",
    "\n",
    "fibonacci(10)"
   ]
  },
  {
   "cell_type": "markdown",
   "id": "a6b8c5f2-89ac-4fe0-8c2f-b9eceedf046f",
   "metadata": {},
   "source": []
  },
  {
   "cell_type": "markdown",
   "id": "63eeb9e6-feb1-4683-8050-9c56c9110319",
   "metadata": {},
   "source": [
    "Q.7  Write a List Comprehension to iterate through the given string: ‘pwskills’. \n",
    "Expected output: ['p', 'w', 's', 'k', 'i', 'l', 'l', 's'] "
   ]
  },
  {
   "cell_type": "code",
   "execution_count": 16,
   "id": "cf8117f9-9afe-4250-a739-96261dcb150c",
   "metadata": {},
   "outputs": [
    {
     "name": "stdout",
     "output_type": "stream",
     "text": [
      "['p', 'w', 's', 'k', 'i', 'l', 'l', 's']\n"
     ]
    }
   ],
   "source": [
    "word = 'pwskills'\n",
    "compre = [char for char in word]\n",
    "print(compre)"
   ]
  },
  {
   "cell_type": "markdown",
   "id": "cc0f131f-800b-47b6-99ff-65d961afded3",
   "metadata": {},
   "source": []
  },
  {
   "cell_type": "markdown",
   "id": "b34793de-3721-4518-a880-656475ce74cc",
   "metadata": {},
   "source": [
    "8. Write a python program to check whether a given number is Palindrome or not using a while loop."
   ]
  },
  {
   "cell_type": "code",
   "execution_count": 28,
   "id": "b54061f8-24a3-4ec1-af3f-95836909a70c",
   "metadata": {},
   "outputs": [
    {
     "name": "stdin",
     "output_type": "stream",
     "text": [
      "Enter a number 121\n"
     ]
    },
    {
     "name": "stdout",
     "output_type": "stream",
     "text": [
      "Reversed Number: 121\n",
      "121  is Palindrome number\n"
     ]
    }
   ],
   "source": [
    "n = int(input('Enter a number'))\n",
    "rev = 0\n",
    "num=n\n",
    "while n != 0:\n",
    "    rem = n % 10\n",
    "    rev = rev * 10 + rem\n",
    "    n //= 10\n",
    "print(\"Reversed Number: \" + str(rev))\n",
    "if num==rev:\n",
    "    print(num,\" is Palindrome number\")\n",
    "else:\n",
    "           print(num,\" is not Palindrome number\")"
   ]
  },
  {
   "cell_type": "markdown",
   "id": "41fd3f16-bb0a-423b-beda-93e106ca32a3",
   "metadata": {},
   "source": []
  },
  {
   "cell_type": "markdown",
   "id": "e3f5173f-fdd4-46d7-b482-9fcc0addfcc2",
   "metadata": {},
   "source": [
    "Q9. Write a code to print odd numbers from 1 to 100 using list comprehension."
   ]
  },
  {
   "cell_type": "code",
   "execution_count": 29,
   "id": "a65a5f9f-16fb-484a-adfe-4217a078eae5",
   "metadata": {},
   "outputs": [
    {
     "data": {
      "text/plain": [
       "[1,\n",
       " 3,\n",
       " 5,\n",
       " 7,\n",
       " 9,\n",
       " 11,\n",
       " 13,\n",
       " 15,\n",
       " 17,\n",
       " 19,\n",
       " 21,\n",
       " 23,\n",
       " 25,\n",
       " 27,\n",
       " 29,\n",
       " 31,\n",
       " 33,\n",
       " 35,\n",
       " 37,\n",
       " 39,\n",
       " 41,\n",
       " 43,\n",
       " 45,\n",
       " 47,\n",
       " 49,\n",
       " 51,\n",
       " 53,\n",
       " 55,\n",
       " 57,\n",
       " 59,\n",
       " 61,\n",
       " 63,\n",
       " 65,\n",
       " 67,\n",
       " 69,\n",
       " 71,\n",
       " 73,\n",
       " 75,\n",
       " 77,\n",
       " 79,\n",
       " 81,\n",
       " 83,\n",
       " 85,\n",
       " 87,\n",
       " 89,\n",
       " 91,\n",
       " 93,\n",
       " 95,\n",
       " 97,\n",
       " 99]"
      ]
     },
     "execution_count": 29,
     "metadata": {},
     "output_type": "execute_result"
    }
   ],
   "source": [
    "[odd for odd in range(1,100) if odd%2==1]"
   ]
  },
  {
   "cell_type": "code",
   "execution_count": null,
   "id": "74e696bd-f852-4b15-8aa0-4ef40c41c9c7",
   "metadata": {},
   "outputs": [],
   "source": []
  }
 ],
 "metadata": {
  "kernelspec": {
   "display_name": "Python 3 (ipykernel)",
   "language": "python",
   "name": "python3"
  },
  "language_info": {
   "codemirror_mode": {
    "name": "ipython",
    "version": 3
   },
   "file_extension": ".py",
   "mimetype": "text/x-python",
   "name": "python",
   "nbconvert_exporter": "python",
   "pygments_lexer": "ipython3",
   "version": "3.10.8"
  }
 },
 "nbformat": 4,
 "nbformat_minor": 5
}
