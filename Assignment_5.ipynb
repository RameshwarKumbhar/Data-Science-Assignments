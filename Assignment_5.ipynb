{
 "cells": [
  {
   "cell_type": "markdown",
   "id": "dd161517-abef-4962-9e73-3d076d5e85f1",
   "metadata": {},
   "source": [
    "Q1. Create a python program to sort the given list of tuples based on integer value using a\n",
    "lambda function.\n",
    "[('Sachin Tendulkar', 34357), ('Ricky Ponting', 27483), ('Jack Kallis', 25534), ('Virat Kohli', 24936)]"
   ]
  },
  {
   "cell_type": "code",
   "execution_count": 1,
   "id": "44bf424c-5743-4dbe-83bf-5517b7a90bbd",
   "metadata": {},
   "outputs": [
    {
     "name": "stdout",
     "output_type": "stream",
     "text": [
      "[('Virat Kohli', 24936), ('Jack Kallis', 25534), ('Ricky Ponting', 27483), ('Sachin Tendulkar', 34357)]\n"
     ]
    }
   ],
   "source": [
    "list_of_tuples = [('Sachin Tendulkar', 34357), ('Ricky Ponting', 27483), ('Jack Kallis', 25534), ('Virat Kohli', 24936)]\n",
    "sorted_list = sorted(list_of_tuples, key=lambda x: x[1])\n",
    "print(sorted_list)"
   ]
  },
  {
   "cell_type": "raw",
   "id": "68e2856d-af3b-40f5-8d38-bdf8e2081fff",
   "metadata": {},
   "source": []
  },
  {
   "cell_type": "markdown",
   "id": "6a956bc2-48d3-4f73-9114-0b56dc29be82",
   "metadata": {},
   "source": [
    "Q2. Write a Python Program to find the squares of all the numbers in the given list of integers using\n",
    "lambda and map functions.\n",
    "[1, 2, 3, 4, 5, 6, 7, 8, 9, 10]"
   ]
  },
  {
   "cell_type": "code",
   "execution_count": 2,
   "id": "9e9a9707-87e7-4863-abe1-a2cdc8bf4596",
   "metadata": {},
   "outputs": [
    {
     "name": "stdout",
     "output_type": "stream",
     "text": [
      "[1, 4, 9, 16, 25, 36, 49, 64, 81, 100]\n"
     ]
    }
   ],
   "source": [
    "num = [1, 2, 3, 4, 5, 6, 7, 8, 9, 10]\n",
    "squared_number = list(map(lambda x: x**2, num))\n",
    "print(squared_number)"
   ]
  },
  {
   "cell_type": "raw",
   "id": "b649c81f-cbfd-4e07-b0a1-444a2d47120e",
   "metadata": {},
   "source": []
  },
  {
   "cell_type": "markdown",
   "id": "c52b339b-503f-488a-8b67-3ba8514e7ae7",
   "metadata": {},
   "source": [
    "Q3. Write a python program to convert the given list of integers into a tuple of strings. Use map and\n",
    "lambda functions\n",
    "Given String: [1, 2, 3, 4, 5, 6, 7, 8, 9, 10]\n",
    "Expected output: ('1', '2', '3', '4', '5', '6', '7', '8', '9', '10')"
   ]
  },
  {
   "cell_type": "code",
   "execution_count": 3,
   "id": "adc49b5b-cec4-429e-9566-348ed8781b41",
   "metadata": {},
   "outputs": [
    {
     "name": "stdout",
     "output_type": "stream",
     "text": [
      "('1', '2', '3', '4', '5', '6', '7', '8', '9', '10')\n"
     ]
    }
   ],
   "source": [
    "number = [1, 2, 3, 4, 5, 6, 7, 8, 9, 10]\n",
    "string_of_tuple = tuple(map(lambda x: str(x), number))\n",
    "print(string_of_tuple)"
   ]
  },
  {
   "cell_type": "raw",
   "id": "284e0d87-d2ca-4ea7-801f-0565ba8f133a",
   "metadata": {},
   "source": []
  },
  {
   "cell_type": "markdown",
   "id": "ac2af8ea-a9ee-4cd1-9909-f8ad41007a73",
   "metadata": {},
   "source": [
    "Q4. Write a python program using reduce function to compute the product of a list containing numbers\n",
    "from 1 to 25."
   ]
  },
  {
   "cell_type": "code",
   "execution_count": 5,
   "id": "5b73ce4d-1acb-4db7-a762-a5b23e40f273",
   "metadata": {},
   "outputs": [
    {
     "name": "stdout",
     "output_type": "stream",
     "text": [
      "15511210043330985984000000\n"
     ]
    }
   ],
   "source": [
    "from functools import reduce \n",
    "numbers = range(1, 26)\n",
    "product = reduce(lambda x, y: x*y, numbers)\n",
    "print(product)"
   ]
  },
  {
   "cell_type": "raw",
   "id": "52f25d7b-637d-4721-9c18-423b3222ca26",
   "metadata": {},
   "source": []
  },
  {
   "cell_type": "markdown",
   "id": "04b716aa-6788-43a3-ab15-dd22091c6658",
   "metadata": {},
   "source": [
    "Q5. Write a python program to filter the numbers in a given list that are divisible by 2 and 3 using the\n",
    "filter function.\n",
    "[2, 3, 6, 9, 27, 60, 90, 120, 55, 46]"
   ]
  },
  {
   "cell_type": "code",
   "execution_count": 6,
   "id": "373540dd-5808-4472-bd22-eb830d0ec84b",
   "metadata": {},
   "outputs": [
    {
     "name": "stdout",
     "output_type": "stream",
     "text": [
      "[6, 60, 90, 120]\n"
     ]
    }
   ],
   "source": [
    "list_of_numbers = [2, 3, 6, 9, 27, 60, 90, 120, 55, 46] \n",
    "  \n",
    "# using filter() + lambda() \n",
    "# to get numbers divisible by 2 and 3 \n",
    "result = list(filter(lambda x: (x % 2 == 0 and x % 3 == 0), list_of_numbers)) \n",
    "  \n",
    "# printing the result \n",
    "print(result) "
   ]
  },
  {
   "cell_type": "raw",
   "id": "95932265-5fef-4964-bbd4-0f0cd2b4a308",
   "metadata": {},
   "source": []
  },
  {
   "cell_type": "markdown",
   "id": "98b72e8a-0d3b-41b8-b4ee-70b34af5df37",
   "metadata": {},
   "source": [
    "Q6. Write a python program to find palindromes in the given list of strings using lambda and filter\n",
    "function.\n",
    "['python', 'php', 'aba', 'radar', 'level']"
   ]
  },
  {
   "cell_type": "code",
   "execution_count": 7,
   "id": "a49ecb8a-1391-4f79-b2ea-78722bf761aa",
   "metadata": {},
   "outputs": [
    {
     "name": "stdout",
     "output_type": "stream",
     "text": [
      "['php', 'aba', 'radar', 'level']\n"
     ]
    }
   ],
   "source": [
    "list_of_strings = ['python', 'php', 'aba', 'radar', 'level'] \n",
    "  \n",
    "# using filter() + lambda() \n",
    "# to get palindromes \n",
    "result = list(filter(lambda x: (x[::-1]==x), list_of_strings)) \n",
    "  \n",
    "# printing the result \n",
    "print(result) \n"
   ]
  }
 ],
 "metadata": {
  "kernelspec": {
   "display_name": "Python 3 (ipykernel)",
   "language": "python",
   "name": "python3"
  },
  "language_info": {
   "codemirror_mode": {
    "name": "ipython",
    "version": 3
   },
   "file_extension": ".py",
   "mimetype": "text/x-python",
   "name": "python",
   "nbconvert_exporter": "python",
   "pygments_lexer": "ipython3",
   "version": "3.10.8"
  }
 },
 "nbformat": 4,
 "nbformat_minor": 5
}
