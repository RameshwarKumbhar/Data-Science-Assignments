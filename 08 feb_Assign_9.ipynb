{
 "cells": [
  {
   "cell_type": "markdown",
   "id": "c838c55f-1486-4b58-9238-8d1c0ab5154b",
   "metadata": {},
   "source": [
    "Q1. What is Abstraction in OOps? Explain with an example."
   ]
  },
  {
   "cell_type": "markdown",
   "id": "d6a5fea4-62a8-4e94-a1e0-52435ce25643",
   "metadata": {},
   "source": [
    "Abstraction in Object-Oriented Programming (OOP) is the process of hiding complex implementation details and presenting only the essential features of an object or a system to the user. It is one of the fundamental concepts of OOP, along with encapsulation, inheritance, and polymorphism."
   ]
  },
  {
   "cell_type": "code",
   "execution_count": 1,
   "id": "baee757e-13d4-4dc5-8d8c-72e4c12eaee8",
   "metadata": {},
   "outputs": [
    {
     "name": "stdout",
     "output_type": "stream",
     "text": [
      "Woof!\n",
      "Dog is eating.\n",
      "Meow!\n",
      "Cat is eating.\n"
     ]
    }
   ],
   "source": [
    "from abc import ABC, abstractmethod\n",
    "\n",
    "class Animal(ABC):\n",
    "    @abstractmethod\n",
    "    def sound(self):\n",
    "        pass\n",
    "\n",
    "    @abstractmethod\n",
    "    def eat(self):\n",
    "        pass\n",
    "\n",
    "class Dog(Animal):\n",
    "    def sound(self):\n",
    "        print(\"Woof!\")\n",
    "\n",
    "    def eat(self):\n",
    "        print(\"Dog is eating.\")\n",
    "\n",
    "class Cat(Animal):\n",
    "    def sound(self):\n",
    "        print(\"Meow!\")\n",
    "\n",
    "    def eat(self):\n",
    "        print(\"Cat is eating.\")\n",
    "\n",
    "# Creating objects of the concrete classes\n",
    "dog = Dog()\n",
    "cat = Cat()\n",
    "\n",
    "# Calling abstract methods on the objects\n",
    "dog.sound()  # Output: Woof!\n",
    "dog.eat()    # Output: Dog is eating.\n",
    "\n",
    "cat.sound()  # Output: Meow!\n",
    "cat.eat()    # Output: Cat is eating.\n"
   ]
  },
  {
   "cell_type": "raw",
   "id": "e5288c60-53c8-4ef5-8efe-a9341eb20672",
   "metadata": {},
   "source": []
  },
  {
   "cell_type": "markdown",
   "id": "70da51ae-1d44-49d9-a8e7-cb4fdd8d086d",
   "metadata": {},
   "source": [
    "Q2. Differentiate between Abstraction and Encapsulation. Explain with an example"
   ]
  },
  {
   "cell_type": "markdown",
   "id": "bb299b07-7914-4c25-b2f1-23122ec20719",
   "metadata": {},
   "source": [
    "Abstraction focuses on hiding unnecessary details and exposing only the essential features or behaviors of an object. It allows you to represent complex real-world entities in a simplified manner. Abstraction is achieved through abstract classes, interfaces, and the concept of inheritance.\n",
    "\n",
    "Encapsulation, on the other hand, is about bundling data and methods together within a class and controlling access to them. It ensures that the internal state of an object is protected from direct external access. Encapsulation is achieved by using access modifiers (e.g., public, private, protected) and providing public methods as interfaces to interact with the object's internal state."
   ]
  },
  {
   "cell_type": "code",
   "execution_count": 2,
   "id": "48a62710-99fb-4140-b14d-308df66c03c3",
   "metadata": {},
   "outputs": [
    {
     "name": "stdout",
     "output_type": "stream",
     "text": [
      "Woof!\n",
      "Meow!\n",
      "1500\n",
      "Insufficient balance.\n",
      "1500\n"
     ]
    }
   ],
   "source": [
    "# Abstraction Example\n",
    "from abc import ABC, abstractmethod\n",
    "\n",
    "class Animal(ABC):\n",
    "    @abstractmethod\n",
    "    def sound(self):\n",
    "        pass\n",
    "\n",
    "class Dog(Animal):\n",
    "    def sound(self):\n",
    "        print(\"Woof!\")\n",
    "\n",
    "class Cat(Animal):\n",
    "    def sound(self):\n",
    "        print(\"Meow!\")\n",
    "\n",
    "# Encapsulation Example\n",
    "class BankAccount:\n",
    "    def __init__(self, account_number, balance):\n",
    "        self._account_number = account_number\n",
    "        self._balance = balance\n",
    "\n",
    "    def deposit(self, amount):\n",
    "        self._balance += amount\n",
    "\n",
    "    def withdraw(self, amount):\n",
    "        if amount <= self._balance:\n",
    "            self._balance -= amount\n",
    "        else:\n",
    "            print(\"Insufficient balance.\")\n",
    "\n",
    "    def get_balance(self):\n",
    "        return self._balance\n",
    "\n",
    "# Abstraction Example\n",
    "dog = Dog()\n",
    "dog.sound()  # Output: Woof!\n",
    "\n",
    "cat = Cat()\n",
    "cat.sound()  # Output: Meow!\n",
    "\n",
    "# Encapsulation Example\n",
    "account = BankAccount(\"123456\", 1000)\n",
    "account.deposit(500)\n",
    "print(account.get_balance())  # Output: 1500\n",
    "\n",
    "account.withdraw(2000)  # Output: Insufficient balance.\n",
    "print(account.get_balance())  # Output: 1500\n"
   ]
  },
  {
   "cell_type": "raw",
   "id": "4134fbff-06e6-4418-8a49-d609db4d0569",
   "metadata": {},
   "source": []
  },
  {
   "cell_type": "markdown",
   "id": "c9bcf91a-970e-4769-9ee7-a74639a517c9",
   "metadata": {},
   "source": [
    "Q3. What is abc module in python? Why is it used?"
   ]
  },
  {
   "cell_type": "markdown",
   "id": "714f03a5-5412-482b-a443-3cd833ffb1bd",
   "metadata": {},
   "source": [
    "The abc module in Python stands for \"Abstract Base Classes\". It is a module that provides infrastructure for defining abstract base classes (ABCs) in Python. An abstract base class is a class that cannot be instantiated directly, but can be used as a base class for other classes.\n",
    "some of the key uses of the abc module in Python:\n",
    "To define abstract base classes: The abc module is primarily used to define abstract base classes in Python. An abstract base class is a class that defines a set of methods that its subclasses must implement. This allows us to define a common interface that other classes can inherit from.\n",
    "To enforce interface rules: By defining an abstract base class, we can enforce certain rules that any class that inherits from it must follow. For example, an abstract base class can ensure that all its subclasses have a particular method or set of methods.\n",
    "To provide a common API: By defining an abstract base class, we can provide a common API that all its subclasses can use. This can make it easier to work with a set of related classes."
   ]
  },
  {
   "cell_type": "raw",
   "id": "cea0bb5b-5faf-4b21-a6a6-ab4b687817b4",
   "metadata": {},
   "source": []
  },
  {
   "cell_type": "markdown",
   "id": "fb108a52-f911-4dc1-aabe-bad208847737",
   "metadata": {},
   "source": [
    "Q4. How can we achieve data abstraction?"
   ]
  },
  {
   "cell_type": "markdown",
   "id": "fd4ce5bb-5e17-4c69-81dd-b2a0e5ee6218",
   "metadata": {},
   "source": [
    "Data abstraction is the process of hiding implementation details of a class from its users and providing a simplified interface for them to interact with. It is achieved in object-oriented programming through the use of access modifiers and encapsulation. Here are some ways to achieve data abstraction in Python:\n",
    "Data abstraction is the process of hiding implementation details of a class from its users and providing a simplified interface for them to interact with. It is achieved in object-oriented programming through the use of access modifiers and encapsulation. Here are some ways to achieve data abstraction in Python:\n",
    "Use private variables: In Python, variables that are prefixed with double underscores (e.g. __variable) are considered private and cannot be accessed from outside the class. By using private variables, we can hide implementation details and only expose the data that is necessary to the users of the class.\n",
    "Use accessor methods: Accessor methods are methods that provide read-only access to private variables. By defining accessor methods for private variables, we can control how they are accessed from outside the class and provide a simplified interface for users to interact with.\n",
    "Use mutator methods: Mutator methods are methods that provide write access to private variables. By defining mutator methods for private variables, we can control how they are modified from outside the class and provide a simplified interface for users to interact with.\n",
    "Use abstract classes and interfaces: Abstract classes and interfaces provide a high-level specification of a class or group of classes without revealing the implementation details. By defining abstract classes and interfaces, we can provide a simplified interface for users to interact with while hiding the implementation details."
   ]
  },
  {
   "cell_type": "raw",
   "id": "d726af44-d0cc-4d09-b34f-d04a27a92e8a",
   "metadata": {},
   "source": []
  },
  {
   "cell_type": "markdown",
   "id": "00545f01-7546-4cd8-b380-3ddcf69a2764",
   "metadata": {},
   "source": [
    "Q5. Can we create an instance of an abstract class? Explain your answer"
   ]
  }
 ],
 "metadata": {
  "kernelspec": {
   "display_name": "Python 3 (ipykernel)",
   "language": "python",
   "name": "python3"
  },
  "language_info": {
   "codemirror_mode": {
    "name": "ipython",
    "version": 3
   },
   "file_extension": ".py",
   "mimetype": "text/x-python",
   "name": "python",
   "nbconvert_exporter": "python",
   "pygments_lexer": "ipython3",
   "version": "3.10.8"
  }
 },
 "nbformat": 4,
 "nbformat_minor": 5
}
