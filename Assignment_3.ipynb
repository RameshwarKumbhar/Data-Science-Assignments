{
 "cells": [
  {
   "cell_type": "markdown",
   "id": "3fb04d73-2fea-47f9-a877-eb142d2bff96",
   "metadata": {},
   "source": [
    "Q1. Explain with an example each when to use a for loop and a while loop."
   ]
  },
  {
   "cell_type": "markdown",
   "id": "787788ed-004d-474f-9d21-39762e2e9663",
   "metadata": {},
   "source": [
    "A for loop is typically used when you know how many times the loop should run, such as when looping through a list or a dictionary. For example, if you wanted to loop through a list of numbers and print out each one, you can use a for loop like this:\n",
    "numbers = [1, 2, 3, 4, 5]\n",
    "for num in numbers:\n",
    "    print(num)\n",
    "    \n",
    "On the other hand, you can use a while loop to repeatedly execute a code block as long as a condition is true. The while loop will continue to execute the code block until the condition becomes false.\n",
    "age = 0\n",
    "while age < 1 or age > 120:\n",
    "    age = int(input(\"Please enter your age: \"))\n",
    "    \n",
    "In general, you should use a for loop when you know the exact number of iterations you need to perform, and a while loop when you need to repeat a code block as long as a certain condition is true."
   ]
  },
  {
   "cell_type": "markdown",
   "id": "38db2dd3-1ccc-4914-bc20-ba527389d58e",
   "metadata": {},
   "source": [
    "Q2. Write a python program to print the sum and product of the first 10 natural numbers using for\n",
    "and while loop ?"
   ]
  },
  {
   "cell_type": "code",
   "execution_count": 1,
   "id": "6b04b659-ebc2-42a4-8726-aa2cf4075b4d",
   "metadata": {},
   "outputs": [
    {
     "name": "stdout",
     "output_type": "stream",
     "text": [
      "Sum of the first 10 natural numbers =  55\n",
      "Product of the first 10 natural numbers =  3628800\n"
     ]
    }
   ],
   "source": [
    "# For loop\n",
    "sum = 0\n",
    "product = 1\n",
    "\n",
    "for i in range(1, 11):\n",
    "    sum += i\n",
    "    product *= i\n",
    "\n",
    "print(\"Sum of the first 10 natural numbers = \", sum)\n",
    "print(\"Product of the first 10 natural numbers = \", product)"
   ]
  },
  {
   "cell_type": "code",
   "execution_count": 2,
   "id": "f55819ef-7ea0-417a-ab5a-5363c683a162",
   "metadata": {},
   "outputs": [
    {
     "name": "stdout",
     "output_type": "stream",
     "text": [
      "Sum of the first 10 natural numbers =  55\n",
      "Product of the first 10 natural numbers =  3628800\n"
     ]
    }
   ],
   "source": [
    "# While loop\n",
    "sum = 0\n",
    "product = 1\n",
    "i = 1\n",
    "\n",
    "while i <= 10:\n",
    "    sum += i\n",
    "    product *= i\n",
    "    i += 1\n",
    "\n",
    "print(\"Sum of the first 10 natural numbers = \", sum)\n",
    "print(\"Product of the first 10 natural numbers = \", product)"
   ]
  },
  {
   "cell_type": "markdown",
   "id": "2d56ffb3-9113-4896-997f-b0731a7dd0e7",
   "metadata": {},
   "source": [
    "Q3. Create a python program to compute the electricity bill for a household.\n",
    "\n",
    "The per-unit charges in rupees are as follows: For the first 100 units, the user will be charged Rs. 4.5 per\n",
    "unit, for the next 100 units, the user will be charged Rs. 6 per unit, and for the next 100 units, the user will\n",
    "be charged Rs. 10 per unit, After 300 units and above the user will be charged Rs. 20 per unit.\n",
    "You are required to take the units of electricity consumed in a month from the user as input.\n",
    "Your program must pass this test case: when the unit of electricity consumed by the user in a month is\n",
    "310, the total electricity bill should be 2250."
   ]
  },
  {
   "cell_type": "code",
   "execution_count": 7,
   "id": "bef0e181-3975-4a28-a57b-d9ee1d6f9014",
   "metadata": {},
   "outputs": [
    {
     "name": "stdin",
     "output_type": "stream",
     "text": [
      "Enter electricity unit :  310\n"
     ]
    },
    {
     "name": "stdout",
     "output_type": "stream",
     "text": [
      "Total Electricity Bill =  2250.0\n"
     ]
    }
   ],
   "source": [
    "unit=int(input('Enter electricity unit : '))\n",
    "bill=0\n",
    "if unit<=100:\n",
    "    bill=unit*4.5\n",
    "if unit>100 and unit<=200:\n",
    "    bill=100*4.5+(unit-100)*6\n",
    "if unit>200 and unit<=300:\n",
    "    bill=100*4.5+100*6+(unit-200)*10\n",
    "if unit>300:\n",
    "    bill=100*4.5+100*6+100*10+(unit-300)*20\n",
    "print('Total Electricity Bill = ',bill)"
   ]
  },
  {
   "cell_type": "markdown",
   "id": "47bd22a6-c2a6-4bb8-bb3f-b341e9c44d8a",
   "metadata": {},
   "source": [
    "Q4. Create a list of numbers from 1 to 100. Use for loop and while loop to calculate the cube of each\n",
    "number and if the cube of that number is divisible by 4 or 5 then append that number in a list and print\n",
    "that list."
   ]
  },
  {
   "cell_type": "code",
   "execution_count": 11,
   "id": "b9af8d32-72fe-479b-9680-cecd13fe2bdc",
   "metadata": {},
   "outputs": [
    {
     "name": "stdout",
     "output_type": "stream",
     "text": [
      "The list of cubes that are divisible by 4 or 5: [8, 64, 125, 216, 512, 1000, 1728, 2744, 3375, 4096, 5832, 8000, 10648, 13824, 15625, 17576, 21952, 27000, 32768, 39304, 42875, 46656, 54872, 64000, 74088, 85184, 91125, 97336, 110592, 125000, 140608, 157464, 166375, 175616, 195112, 216000, 238328, 262144, 274625, 287496, 314432, 343000, 373248, 405224, 421875, 438976, 474552, 512000, 551368, 592704, 614125, 636056, 681472, 729000, 778688, 830584, 857375, 884736, 941192, 1000000]\n"
     ]
    }
   ],
   "source": [
    "# using for loop\n",
    "num = []\n",
    "cube_list = []\n",
    "\n",
    "for i in range(1, 101):\n",
    "    num.append(i)\n",
    "    cube = i ** 3\n",
    "    if cube % 4 == 0 or cube % 5 == 0:\n",
    "        cube_list.append(cube)\n",
    "\n",
    "print(\"The list of cubes that are divisible by 4 or 5:\", cube_list)"
   ]
  },
  {
   "cell_type": "code",
   "execution_count": 10,
   "id": "5d18558a-3f55-43d4-98b8-55184ac52696",
   "metadata": {},
   "outputs": [
    {
     "name": "stdout",
     "output_type": "stream",
     "text": [
      "The list of cubes that are divisible by 4 or 5: [8, 64, 125, 216, 512, 1000, 1728, 2744, 3375, 4096, 5832, 8000, 10648, 13824, 15625, 17576, 21952, 27000, 32768, 39304, 42875, 46656, 54872, 64000, 74088, 85184, 91125, 97336, 110592, 125000, 140608, 157464, 166375, 175616, 195112, 216000, 238328, 262144, 274625, 287496, 314432, 343000, 373248, 405224, 421875, 438976, 474552, 512000, 551368, 592704, 614125, 636056, 681472, 729000, 778688, 830584, 857375, 884736, 941192, 1000000]\n"
     ]
    }
   ],
   "source": [
    "# using while loop\n",
    "num = []\n",
    "cube_list = []\n",
    "i=1\n",
    "while i<=100:\n",
    "    num.append(i)\n",
    "    cube = i ** 3\n",
    "    if cube % 4 == 0 or cube % 5 == 0:\n",
    "        cube_list.append(cube)\n",
    "    i+=1\n",
    "\n",
    "print(\"The list of cubes that are divisible by 4 or 5:\", cube_list)"
   ]
  },
  {
   "cell_type": "markdown",
   "id": "9e1dd9e0-aa7c-4c88-b92d-14c3f0a7ad8a",
   "metadata": {},
   "source": []
  },
  {
   "cell_type": "markdown",
   "id": "7b33dcb0-3784-4255-b5b0-15850117abb8",
   "metadata": {},
   "source": [
    "Q5. Write a program to filter count vowels in the below-given string.\n",
    "string = \"I want to become a data scientist\""
   ]
  },
  {
   "cell_type": "code",
   "execution_count": 12,
   "id": "ad5b7f62-402e-4b11-97ec-9c3d26247333",
   "metadata": {},
   "outputs": [
    {
     "name": "stdout",
     "output_type": "stream",
     "text": [
      "Vowels present in String word =  12\n"
     ]
    }
   ],
   "source": [
    "word='I want to become a data scientist'\n",
    "vowels='aeiouAEIOU'\n",
    "count=0\n",
    "for char in word:\n",
    "    if char in vowels:\n",
    "        count+=1\n",
    "        \n",
    "print('Vowels present in String word = ',count)"
   ]
  },
  {
   "cell_type": "code",
   "execution_count": null,
   "id": "638602a3-f541-4803-9650-0a246187278a",
   "metadata": {},
   "outputs": [],
   "source": []
  }
 ],
 "metadata": {
  "kernelspec": {
   "display_name": "Python 3 (ipykernel)",
   "language": "python",
   "name": "python3"
  },
  "language_info": {
   "codemirror_mode": {
    "name": "ipython",
    "version": 3
   },
   "file_extension": ".py",
   "mimetype": "text/x-python",
   "name": "python",
   "nbconvert_exporter": "python",
   "pygments_lexer": "ipython3",
   "version": "3.10.8"
  }
 },
 "nbformat": 4,
 "nbformat_minor": 5
}
