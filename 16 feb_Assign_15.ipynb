{
 "cells": [
  {
   "cell_type": "markdown",
   "id": "b6898daa-04a6-4113-8d11-c63c50437087",
   "metadata": {},
   "source": [
    "### Q.1> What is a database? Differentiate between SQL and NoSQL databases."
   ]
  },
  {
   "cell_type": "markdown",
   "id": "07392f9b-f017-4516-afff-dc7c28cf65d9",
   "metadata": {},
   "source": [
    "#### ANSWER"
   ]
  },
  {
   "cell_type": "markdown",
   "id": "af110fe8-2a2d-4e14-9852-8b375641c37f",
   "metadata": {},
   "source": [
    "####  database is a collection of organized data that can be accessed, managed, and updated easily. Databases are used to store and manage information efficiently, making it easier for users to access and manipulate data. Databases can be of different types, but the most common types are SQL and NoSQL databases."
   ]
  },
  {
   "cell_type": "markdown",
   "id": "71ae3998-176e-49f0-99ea-3f0097d0765b",
   "metadata": {},
   "source": [
    "#### SQL databases, also known as Relational databases, are designed to store and manage data in tables that are linked by relationships. They use SQL (Structured Query Language) to manipulate data, which is a standard language for managing relational databases. SQL databases are widely used in industries and applications where data consistency and transactions are critical. They provide a robust, consistent, and scalable way to store and manage data.\n",
    "\n"
   ]
  },
  {
   "cell_type": "markdown",
   "id": "57d9e968-ef7a-48d7-8f36-1031168a5872",
   "metadata": {},
   "source": [
    "#### NoSQL databases, also known as non-relational databases, are designed to store and manage unstructured or semi-structured data. NoSQL databases don't use a fixed schema, and they don't rely on relationships between tables. Instead, they store data in documents, key-value pairs, or graphs, making them more flexible than SQL databases. NoSQL databases are widely used in applications that require scalability and performance, such as social media platforms, mobile applications, and gaming."
   ]
  },
  {
   "cell_type": "markdown",
   "id": "0d0864d5-d63f-42db-8dd5-3fe01d0049da",
   "metadata": {},
   "source": [
    "#### Data Model: SQL databases use a tabular data model, while NoSQL databases use a variety of data models such as document, key-value, graph, or column-family.\n",
    "\n",
    "#### Scalability: SQL databases are vertically scalable, meaning that you can increase the capacity of the server by adding more RAM, CPU, or SSD. NoSQL databases are horizontally scalable, meaning that you can increase the capacity of the database by adding more servers.\n",
    "\n",
    "#### Consistency: SQL databases offer strong consistency, meaning that every read operation will return the latest data. NoSQL databases offer eventual consistency, meaning that it might take some time for all nodes to agree on the latest data.\n",
    "\n",
    "#### Transactions: SQL databases support ACID (Atomicity, Consistency, Isolation, Durability) transactions, which ensure that all operations are executed as a single, atomic unit. NoSQL databases support BASE (Basically Available, Soft state, Eventually consistent) transactions, which prioritize availability and partition tolerance over consistency.\n",
    "\n",
    "#### Query Language: SQL databases use SQL to query data, while NoSQL databases use their own query languages, such as MongoDB Query Language, Cassandra Query Language, or Apache Gremlin."
   ]
  },
  {
   "cell_type": "markdown",
   "id": "c3e3d496-cbac-4625-a70b-b029d1904f8f",
   "metadata": {},
   "source": [
    "### Q.2> What is DDL? Explain why CREATE, DROP, ALTER, and TRUNCATE are used with an example."
   ]
  },
  {
   "cell_type": "markdown",
   "id": "1468969e-8cc1-4c55-9d31-194a6d701c0e",
   "metadata": {},
   "source": [
    "#### ANSWER"
   ]
  },
  {
   "cell_type": "markdown",
   "id": "d8da03ac-309c-4ae4-a38f-2cc86252f73b",
   "metadata": {},
   "source": [
    "#### DDL (Data Definition Language) is a set of SQL commands used to define and manage the structure of a database. DDL commands allow users to create, modify, and delete database objects such as tables, indexes, views, and procedures."
   ]
  },
  {
   "cell_type": "markdown",
   "id": "7edf6858-a034-4ec1-a215-924f750a5f63",
   "metadata": {},
   "source": [
    "#### CREATE: The CREATE command is used to create new database objects such as tables, views, indexes, and procedures. "
   ]
  },
  {
   "cell_type": "code",
   "execution_count": null,
   "id": "621fb04f-ffcc-4c56-a88f-013b2b03a58c",
   "metadata": {},
   "outputs": [],
   "source": [
    "CREATE TABLE employees (\n",
    "  id INT PRIMARY KEY,\n",
    "  name VARCHAR(50),\n",
    "  salary DECIMAL(10,2)\n",
    ");\n"
   ]
  },
  {
   "cell_type": "markdown",
   "id": "213e0fed-7998-408f-b0a3-efed7145fd2c",
   "metadata": {},
   "source": [
    "#### DROP: The DROP command is used to delete existing database objects such as tables, views, indexes, and procedures. "
   ]
  },
  {
   "cell_type": "code",
   "execution_count": null,
   "id": "141607fc-780d-452f-96f4-0109778b349e",
   "metadata": {},
   "outputs": [],
   "source": [
    "DROP TABLE employees;\n"
   ]
  },
  {
   "cell_type": "markdown",
   "id": "341c6643-7c1f-42f3-b797-acdea7bcc807",
   "metadata": {},
   "source": [
    "#### ALTER: The ALTER command is used to modify the structure of existing database objects such as tables and columns."
   ]
  },
  {
   "cell_type": "code",
   "execution_count": 1,
   "id": "b5acded3-2131-4e59-937d-529c68f639b9",
   "metadata": {},
   "outputs": [
    {
     "ename": "SyntaxError",
     "evalue": "invalid syntax (3236167303.py, line 1)",
     "output_type": "error",
     "traceback": [
      "\u001b[0;36m  Cell \u001b[0;32mIn[1], line 1\u001b[0;36m\u001b[0m\n\u001b[0;31m    ALTER TABLE employees ADD COLUMN age INT;\u001b[0m\n\u001b[0m          ^\u001b[0m\n\u001b[0;31mSyntaxError\u001b[0m\u001b[0;31m:\u001b[0m invalid syntax\n"
     ]
    }
   ],
   "source": [
    "ALTER TABLE employees ADD COLUMN age INT;\n"
   ]
  },
  {
   "cell_type": "markdown",
   "id": "1e340bba-5c97-426f-a8e9-71ed99302df8",
   "metadata": {},
   "source": [
    "#### TRUNCATE: The TRUNCATE command is used to remove all data from a table while keeping its structure intact. This command is faster than deleting all rows using the DELETE command."
   ]
  },
  {
   "cell_type": "code",
   "execution_count": null,
   "id": "a489de46-cc25-4445-bde7-fbccdf584c47",
   "metadata": {},
   "outputs": [],
   "source": [
    "TRUNCATE TABLE employees;\n"
   ]
  },
  {
   "cell_type": "markdown",
   "id": "0d68023b-bd73-497a-8edf-cfba932668c0",
   "metadata": {},
   "source": [
    "### Q.3> What is DML? Explain INSERT, UPDATE, and DELETE with an example."
   ]
  },
  {
   "cell_type": "markdown",
   "id": "e3963f4d-7ace-4004-bd70-b062daab3085",
   "metadata": {},
   "source": [
    "#### ANSWER"
   ]
  },
  {
   "cell_type": "markdown",
   "id": "feb4eb8f-1eee-44cd-b1bf-38580cce32ec",
   "metadata": {},
   "source": [
    "#### DML (Data Manipulation Language) is a set of SQL commands used to manipulate the data stored in a database. DML commands are used to insert, update, and delete data from tables.\n",
    "\n"
   ]
  },
  {
   "cell_type": "markdown",
   "id": "5d452519-34a4-431a-b232-f8ac9484e8e0",
   "metadata": {},
   "source": [
    "#### NSERT: The INSERT command is used to insert new data into a table. "
   ]
  },
  {
   "cell_type": "code",
   "execution_count": null,
   "id": "9d50cf12-bef0-46ef-8027-dff23b6c13c1",
   "metadata": {},
   "outputs": [],
   "source": [
    "INSERT INTO employees (id, name, salary, age) VALUES (1, 'John Doe', 50000, 30);\n"
   ]
  },
  {
   "cell_type": "markdown",
   "id": "f175b1d6-476b-4e86-8383-2f4345031b2e",
   "metadata": {},
   "source": [
    "#### UPDATE: The UPDATE command is used to modify existing data in a table. "
   ]
  },
  {
   "cell_type": "code",
   "execution_count": null,
   "id": "ee9cbaa3-4aaa-4872-8075-de87a1477bf7",
   "metadata": {},
   "outputs": [],
   "source": [
    "UPDATE employees SET salary = 55000 WHERE id = 1;\n"
   ]
  },
  {
   "cell_type": "markdown",
   "id": "b65a34a9-10d4-44f5-8d00-f35ec218ef7e",
   "metadata": {},
   "source": [
    "#### DELETE: The DELETE command is used to delete data from a table. "
   ]
  },
  {
   "cell_type": "code",
   "execution_count": null,
   "id": "9fc7c47c-cb58-411d-8685-c65489a19135",
   "metadata": {},
   "outputs": [],
   "source": [
    "DELETE FROM employees WHERE id = 1;\n"
   ]
  },
  {
   "cell_type": "markdown",
   "id": "9708f761-7aca-4f51-8210-be9f78640b70",
   "metadata": {},
   "source": [
    "### Q.4> What is DQL? Explain SELECT with an example."
   ]
  },
  {
   "cell_type": "markdown",
   "id": "bf002deb-318b-4703-bc3b-cee03e3ffd7b",
   "metadata": {},
   "source": [
    "#### ANSWER"
   ]
  },
  {
   "cell_type": "markdown",
   "id": "bedd7ec3-ded1-42ec-90d2-807813e8c51c",
   "metadata": {},
   "source": [
    "#### DQL (Data Query Language) is a set of SQL commands used to query and retrieve data from a database. DQL commands are used to retrieve data from tables and views."
   ]
  },
  {
   "cell_type": "markdown",
   "id": "01762e7c-e54e-482f-bab2-a33ac4e8ff81",
   "metadata": {},
   "source": [
    "#### SELECT: The SELECT command is used to retrieve data from one or more tables or views."
   ]
  },
  {
   "cell_type": "code",
   "execution_count": null,
   "id": "2b4f9af0-b134-4501-b674-d5a33279de5e",
   "metadata": {},
   "outputs": [],
   "source": [
    "SELECT * FROM employees;\n"
   ]
  },
  {
   "cell_type": "code",
   "execution_count": null,
   "id": "7984954e-1e7b-43fa-b56a-d0d6ea8a4f1b",
   "metadata": {},
   "outputs": [],
   "source": [
    "SELECT name, salary FROM employees;\n"
   ]
  },
  {
   "cell_type": "code",
   "execution_count": null,
   "id": "2f52e26d-1cdb-43e6-b8be-7cdcabbfc588",
   "metadata": {},
   "outputs": [],
   "source": [
    "SELECT * FROM employees WHERE salary > 50000;\n"
   ]
  },
  {
   "cell_type": "markdown",
   "id": "f25d3853-7933-4667-80e3-4b957e2009ed",
   "metadata": {},
   "source": [
    "### Q.5> Explain Primary Key and Foreign Key."
   ]
  },
  {
   "cell_type": "markdown",
   "id": "b3463db4-4bdf-46a6-b4af-41590227dc72",
   "metadata": {},
   "source": [
    "#### ANSWER"
   ]
  },
  {
   "cell_type": "markdown",
   "id": "26b5952b-7d83-4b9d-9744-22f10e85e982",
   "metadata": {},
   "source": [
    "#### Primary Key: A primary key is a column or set of columns in a table that uniquely identifies each row in the table. It is used to enforce data integrity by ensuring that each row in the table is unique and can be easily referenced by other tables. A primary key constraint is used to define a primary key in a table. It can be a single column or a combination of columns, and it must have a unique value for each row."
   ]
  },
  {
   "cell_type": "code",
   "execution_count": null,
   "id": "72a6dba3-4540-4c39-98d4-cfcb50622a95",
   "metadata": {},
   "outputs": [],
   "source": [
    "CREATE TABLE students (\n",
    "    student_id INT PRIMARY KEY,\n",
    "    name VARCHAR(50),\n",
    "    email VARCHAR(50),\n",
    "    phone_number VARCHAR(15)\n",
    ");\n"
   ]
  },
  {
   "cell_type": "markdown",
   "id": "77716fbc-a061-44c6-91d2-fbd08f82d30a",
   "metadata": {},
   "source": [
    "#### Foreign Key: A foreign key is a column or set of columns in a table that refers to the primary key of another table. It is used to establish a relationship between two tables and maintain referential integrity. A foreign key constraint is used to define a foreign key in a table. It ensures that the values in the foreign key column(s) match the values in the primary key column(s) of the referenced table, or are null."
   ]
  },
  {
   "cell_type": "code",
   "execution_count": null,
   "id": "b644b3ec-dbed-493f-8654-ea08c7577243",
   "metadata": {},
   "outputs": [],
   "source": [
    "CREATE TABLE courses (\n",
    "    course_id INT PRIMARY KEY,\n",
    "    name VARCHAR(50),\n",
    "    instructor_id INT,\n",
    "    FOREIGN KEY (instructor_id) REFERENCES instructors(instructor_id)\n",
    ");\n"
   ]
  },
  {
   "cell_type": "markdown",
   "id": "e98e2115-78ba-42ee-9276-f308fec4b0bf",
   "metadata": {},
   "source": [
    "### Q.6> Write a python code to connect MySQL to python. Explain the cursor() and execute() method."
   ]
  },
  {
   "cell_type": "markdown",
   "id": "3ee411d3-d069-47e9-a305-a60aefb8ca77",
   "metadata": {},
   "source": [
    "#### ANSWER"
   ]
  },
  {
   "cell_type": "code",
   "execution_count": null,
   "id": "a919feff-9653-4411-af47-fd64bc35f73b",
   "metadata": {},
   "outputs": [],
   "source": [
    "import mysql.connector\n",
    "# import mysql.connector\n",
    "#create user 'user'@'%' identified by 'password'\n",
    "mydb = mysql.connector.connect(\n",
    "  host=\"localhost\",\n",
    "  user=\"abc\",\n",
    "  password=\"password\"\n",
    ")\n",
    "print(mydb)\n",
    "mycursor = mydb.cursor()\n",
    "mycursor.execute(\"SHOW DATABASES\")\n",
    "for x in mycursor:\n",
    "  print(x)"
   ]
  },
  {
   "cell_type": "markdown",
   "id": "e6afb306-3fe6-417f-9ed4-8be1e24ac3da",
   "metadata": {},
   "source": [
    "#### In database programming, a cursor is a pointer that allows us to fetch rows from a result set of a SQL query one by one. The cursor() and execute() methods are two important methods that are used in Python database programming to interact with a database using a cursor."
   ]
  },
  {
   "cell_type": "markdown",
   "id": "475cc5f5-f8f3-430d-b5bd-57585683e80a",
   "metadata": {},
   "source": [
    "#### cursor() method: The cursor() method creates a cursor object that allows us to execute SQL queries and fetch the results. "
   ]
  },
  {
   "cell_type": "markdown",
   "id": "b37acbf2-b062-4e25-be97-321a2abd1ad2",
   "metadata": {},
   "source": [
    "#### execute() method: The execute() method is used to execute a SQL query. It takes a string containing the SQL query as its argument."
   ]
  },
  {
   "cell_type": "markdown",
   "id": "29f949cf-8c4b-4398-9aae-18ae4e0eb26a",
   "metadata": {},
   "source": [
    "### Q.7>Give the order of execution of SQL clauses in an SQL query."
   ]
  },
  {
   "cell_type": "markdown",
   "id": "fdc2578c-46a9-4378-8965-c8aad89757e6",
   "metadata": {},
   "source": [
    "#### ANSWER"
   ]
  },
  {
   "cell_type": "markdown",
   "id": "723c0973-3f96-45bd-8dc1-66f59a5cf22c",
   "metadata": {},
   "source": [
    "#### FROM clause: The FROM clause specifies the table or tables from which the data is to be retrieved.\n",
    "\n",
    "#### WHERE clause: The WHERE clause is used to filter the data based on a specified condition. It specifies the conditions that must be met for a row to be included in the result set.\n",
    "\n",
    "#### GROUP BY clause: The GROUP BY clause is used to group the data based on one or more columns. It creates a set of groups, each containing the rows with the same values in the specified columns.\n",
    "\n",
    "#### HAVING clause: The HAVING clause is used to filter the grouped data based on a specified condition. It specifies the conditions that must be met for a group to be included in the result set.\n",
    "\n",
    "#### SELECT clause: The SELECT clause specifies the columns to be included in the result set. It can also include expressions that manipulate the data, such as arithmetic operations, string concatenation, or function calls.\n",
    "\n",
    "#### ORDER BY clause: The ORDER BY clause is used to sort the data in the result set based on one or more columns. It specifies the columns to sort by and the order (ascending or descending).\n",
    "\n",
    "#### LIMIT clause: The LIMIT clause is used to limit the number of rows returned by the query. It specifies the maximum number of rows to return, starting from the first row of the result set.\n",
    "\n"
   ]
  },
  {
   "cell_type": "code",
   "execution_count": null,
   "id": "5dff3b74-a8ff-43b2-8db6-533e1ba20b27",
   "metadata": {},
   "outputs": [],
   "source": []
  }
 ],
 "metadata": {
  "kernelspec": {
   "display_name": "Python 3 (ipykernel)",
   "language": "python",
   "name": "python3"
  },
  "language_info": {
   "codemirror_mode": {
    "name": "ipython",
    "version": 3
   },
   "file_extension": ".py",
   "mimetype": "text/x-python",
   "name": "python",
   "nbconvert_exporter": "python",
   "pygments_lexer": "ipython3",
   "version": "3.10.8"
  }
 },
 "nbformat": 4,
 "nbformat_minor": 5
}
